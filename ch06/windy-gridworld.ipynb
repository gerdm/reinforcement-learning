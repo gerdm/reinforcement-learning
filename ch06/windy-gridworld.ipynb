{
 "cells": [
  {
   "cell_type": "code",
   "execution_count": 76,
   "id": "a6d932ab-336e-467a-8e10-4577c620773d",
   "metadata": {},
   "outputs": [],
   "source": [
    "import numpy as np\n",
    "import matplotlib.pyplot as plt\n",
    "import matplotlib.ticker as ticker\n",
    "from numba import njit"
   ]
  },
  {
   "cell_type": "code",
   "execution_count": 2,
   "id": "569fe259-97ae-43ac-9250-b65dc69e6eeb",
   "metadata": {},
   "outputs": [],
   "source": [
    "%config InlineBackend.figure_format = \"retina\""
   ]
  },
  {
   "cell_type": "code",
   "execution_count": 43,
   "id": "a85f22cc-2d31-45b6-967c-0f988040cfb4",
   "metadata": {},
   "outputs": [],
   "source": [
    "n_rows = 7\n",
    "n_cols = 10\n",
    "gridworld = np.zeros((n_rows, n_cols))"
   ]
  },
  {
   "cell_type": "code",
   "execution_count": 77,
   "id": "0e55b730-7f96-44cd-ac20-0ec5e1c24d66",
   "metadata": {},
   "outputs": [],
   "source": [
    "init_pos = np.array([3, 0])\n",
    "goal_pos = np.array([3, 7])"
   ]
  },
  {
   "cell_type": "code",
   "execution_count": 147,
   "id": "ff0f2255-ac4f-433d-8b28-a58bec57470e",
   "metadata": {},
   "outputs": [],
   "source": [
    "strength = np.array([0, 0, 0, 1, 1, 1, 2, 2, 1, 0])"
   ]
  },
  {
   "cell_type": "code",
   "execution_count": 157,
   "id": "8119a05d-d373-4c8b-bb0d-d81d0a21128a",
   "metadata": {},
   "outputs": [
    {
     "data": {
      "image/png": "[encoded data removed]",
      "text/plain": [
       "<Figure size 600x420 with 1 Axes>"
      ]
     },
     "metadata": {
      "image/png": {
       "height": 364,
       "width": 489
      }
     },
     "output_type": "display_data"
    }
   ],
   "source": [
    "fig, ax = plt.subplots(figsize=(n_cols * 0.6, n_rows * 0.6))\n",
    "xticks = np.arange(n_cols + 1)\n",
    "yticks = np.arange(n_rows + 1)\n",
    "\n",
    "init = init_pos[::-1] + 0.5\n",
    "goal = goal_pos[::-1] + 0.5\n",
    "ax.scatter(*init, marker=\"$S$\", s=100)\n",
    "ax.scatter(*goal, marker=\"$G$\", s =100, c=\"crimson\")\n",
    "# plt.scatter(*finish_pos)\n",
    "\n",
    "ax.set_xticks(xticks, labels=\"\")\n",
    "plt.yticks(yticks, labels=\"\")\n",
    "\n",
    "# TODO: change for minor xticks\n",
    "for x, s in enumerate(strength):\n",
    "    plt.text(x + 0.5, -0.4, s)\n",
    "\n",
    "plt.grid()"
   ]
  },
  {
   "cell_type": "code",
   "execution_count": 187,
   "id": "02330c35-cb73-4e55-a915-078148423580",
   "metadata": {},
   "outputs": [],
   "source": [
    "actions = np.array([\n",
    "    [0, 1], # right\n",
    "    [0, -1], # left\n",
    "    [1, 0], # up,\n",
    "    [-1, 0], # down\n",
    "])\n",
    "n_actions = len(actions)"
   ]
  },
  {
   "cell_type": "code",
   "execution_count": 205,
   "id": "a472316d-0ab7-4baa-8701-073eff782ee8",
   "metadata": {},
   "outputs": [],
   "source": [
    "Q = np.zeros((n_rows, n_cols, n_actions)) # action-value function"
   ]
  },
  {
   "cell_type": "code",
   "execution_count": 206,
   "id": "9914d2ec-4831-4f12-8393-ec0abc670255",
   "metadata": {},
   "outputs": [],
   "source": [
    "epsilon = 0.1\n",
    "pos = init_pos.copy()"
   ]
  },
  {
   "cell_type": "code",
   "execution_count": 207,
   "id": "ed4e0fe8-7ad1-42c1-a60b-8daf46805e05",
   "metadata": {},
   "outputs": [
    {
     "data": {
      "text/plain": [
       "(7, 10, 4)"
      ]
     },
     "execution_count": 207,
     "metadata": {},
     "output_type": "execute_result"
    }
   ],
   "source": [
    "Q.shape"
   ]
  },
  {
   "cell_type": "code",
   "execution_count": null,
   "id": "e002175c-d65c-4096-be2e-e34d399efacb",
   "metadata": {},
   "outputs": [],
   "source": [
    "def choose_action(qval):\n",
    "    action_greedy = qval.max()\n",
    "    "
   ]
  },
  {
   "cell_type": "code",
   "execution_count": 208,
   "id": "c16f642e-a93f-49ba-b062-33a0e12820ee",
   "metadata": {},
   "outputs": [
    {
     "data": {
      "text/plain": [
       "array([3, 0])"
      ]
     },
     "execution_count": 208,
     "metadata": {},
     "output_type": "execute_result"
    }
   ],
   "source": [
    "pos"
   ]
  },
  {
   "cell_type": "code",
   "execution_count": 209,
   "id": "b5675f26-13c2-4f9b-ab28-18fc503df72f",
   "metadata": {},
   "outputs": [
    {
     "data": {
      "text/plain": [
       "array([0., 0., 0., 0.])"
      ]
     },
     "execution_count": 209,
     "metadata": {},
     "output_type": "execute_result"
    }
   ],
   "source": [
    "Q[*pos]"
   ]
  }
 ],
 "metadata": {
  "kernelspec": {
   "display_name": "numbaenv",
   "language": "python",
   "name": "numbaenv"
  },
  "language_info": {
   "codemirror_mode": {
    "name": "ipython",
    "version": 3
   },
   "file_extension": ".py",
   "mimetype": "text/x-python",
   "name": "python",
   "nbconvert_exporter": "python",
   "pygments_lexer": "ipython3",
   "version": "3.12.1"
  }
 },
 "nbformat": 4,
 "nbformat_minor": 5
}
