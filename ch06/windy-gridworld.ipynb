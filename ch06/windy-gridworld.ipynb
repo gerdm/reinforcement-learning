{
 "cells": [
  {
   "cell_type": "code",
   "execution_count": 1,
   "id": "a6d932ab-336e-467a-8e10-4577c620773d",
   "metadata": {},
   "outputs": [],
   "source": [
    "import numpy as np\n",
    "import matplotlib.pyplot as plt\n",
    "import matplotlib.ticker as ticker\n",
    "from numba import njit"
   ]
  },
  {
   "cell_type": "code",
   "execution_count": 171,
   "id": "569fe259-97ae-43ac-9250-b65dc69e6eeb",
   "metadata": {},
   "outputs": [],
   "source": [
    "%config InlineBackend.figure_format = \"retina\""
   ]
  },
  {
   "cell_type": "code",
   "execution_count": 172,
   "id": "a85f22cc-2d31-45b6-967c-0f988040cfb4",
   "metadata": {},
   "outputs": [],
   "source": [
    "n_rows = 7\n",
    "n_cols = 10\n",
    "gridworld = np.zeros((n_rows, n_cols))"
   ]
  },
  {
   "cell_type": "code",
   "execution_count": 173,
   "id": "0e55b730-7f96-44cd-ac20-0ec5e1c24d66",
   "metadata": {},
   "outputs": [],
   "source": [
    "init_pos = np.array([3, 0])\n",
    "goal_pos = np.array([3, 7])"
   ]
  },
  {
   "cell_type": "code",
   "execution_count": 216,
   "id": "ff0f2255-ac4f-433d-8b28-a58bec57470e",
   "metadata": {},
   "outputs": [],
   "source": [
    "strength = -np.array([0, 0, 0, 1, 1, 1, 2, 2, 1, 0])\n",
    "wind = np.c_[strength, np.zeros(n_cols)]\n",
    "wind = np.zeros((n_rows, n_cols, 2)) + wind[None, ...]"
   ]
  },
  {
   "cell_type": "code",
   "execution_count": 217,
   "id": "8119a05d-d373-4c8b-bb0d-d81d0a21128a",
   "metadata": {},
   "outputs": [
    {
     "data": {
      "image/png": "[encoded data removed]",
      "text/plain": [
       "<Figure size 600x420 with 1 Axes>"
      ]
     },
     "metadata": {
      "image/png": {
       "height": 364,
       "width": 489
      }
     },
     "output_type": "display_data"
    }
   ],
   "source": [
    "fig, ax = plt.subplots(figsize=(n_cols * 0.6, n_rows * 0.6))\n",
    "xticks = np.arange(n_cols + 1)\n",
    "yticks = np.arange(n_rows + 1)\n",
    "\n",
    "init = init_pos[::-1] + 0.5\n",
    "goal = goal_pos[::-1] + 0.5\n",
    "ax.scatter(*init, marker=\"$S$\", s=100)\n",
    "ax.scatter(*goal, marker=\"$G$\", s =100, c=\"crimson\")\n",
    "# plt.scatter(*finish_pos)\n",
    "\n",
    "ax.set_xticks(xticks, labels=\"\")\n",
    "plt.yticks(yticks, labels=\"\")\n",
    "\n",
    "# TODO: change for minor xticks\n",
    "for x, s in enumerate(strength):\n",
    "    plt.text(x + 0.5, -0.4, s)\n",
    "\n",
    "plt.grid()"
   ]
  },
  {
   "cell_type": "code",
   "execution_count": 218,
   "id": "44752540-5e35-41e8-8025-43ed738e5463",
   "metadata": {},
   "outputs": [],
   "source": [
    "movements = np.array([\n",
    "    [0, 1], # right\n",
    "    [0, -1], # left\n",
    "    [1, 0], # up,\n",
    "    [-1, 0], # down\n",
    "])\n",
    "n_actions = len(movements)"
   ]
  },
  {
   "cell_type": "code",
   "execution_count": 219,
   "id": "e002175c-d65c-4096-be2e-e34d399efacb",
   "metadata": {},
   "outputs": [],
   "source": [
    "@njit\n",
    "def get_probas(qval, epsilon):\n",
    "    qmax = qval.max()\n",
    "    n_actions = len(qval)\n",
    "\n",
    "    # TODO:\n",
    "    # add elif condition if more than action has the same value\n",
    "    if np.all(qmax == qval):\n",
    "        # return random action\n",
    "        probas = np.ones(n_actions) / n_actions\n",
    "    else:\n",
    "        # return epsilon-greeedy action\n",
    "        action_max = qval.argmax()\n",
    "        probas = epsilon * np.ones(n_actions) / n_actions\n",
    "        probas[action_max] = 1 - epsilon + epsilon / n_actions\n",
    "\n",
    "    return probas"
   ]
  },
  {
   "cell_type": "code",
   "execution_count": 220,
   "id": "b9e5136b-5429-4515-aef4-b61591eb0850",
   "metadata": {},
   "outputs": [],
   "source": [
    "Q = np.zeros((n_rows, n_cols, n_actions)) # action-value function"
   ]
  },
  {
   "cell_type": "code",
   "execution_count": 221,
   "id": "9914d2ec-4831-4f12-8393-ec0abc670255",
   "metadata": {},
   "outputs": [],
   "source": [
    "epsilon = 0.1\n",
    "pos = init_pos.copy()"
   ]
  },
  {
   "cell_type": "code",
   "execution_count": 222,
   "id": "4a5f90a4-4efe-43c7-a0e2-5efbbbe4477a",
   "metadata": {},
   "outputs": [],
   "source": [
    "q_state = Q[*pos]"
   ]
  },
  {
   "cell_type": "code",
   "execution_count": 223,
   "id": "52daecf5-15a0-4d71-8715-72cd43aa39e0",
   "metadata": {},
   "outputs": [
    {
     "data": {
      "text/plain": [
       "array([0.25, 0.25, 0.25, 0.25])"
      ]
     },
     "execution_count": 223,
     "metadata": {},
     "output_type": "execute_result"
    }
   ],
   "source": [
    "probas = get_probas(q_state, epsilon)\n",
    "probas"
   ]
  },
  {
   "cell_type": "code",
   "execution_count": 224,
   "id": "ea5ee713-25b1-4a1f-8d15-7a59e0794ebc",
   "metadata": {},
   "outputs": [
    {
     "data": {
      "text/plain": [
       "2"
      ]
     },
     "execution_count": 224,
     "metadata": {},
     "output_type": "execute_result"
    }
   ],
   "source": [
    "action = np.random.multinomial(1, probas).argmax()\n",
    "action"
   ]
  },
  {
   "cell_type": "code",
   "execution_count": 233,
   "id": "29583d1f-8d20-484e-8492-705a754b21eb",
   "metadata": {},
   "outputs": [],
   "source": [
    "def move(pos, step, wind):\n",
    "    raw_pos = pos + step + wind[*pos]\n",
    "    return raw_pos"
   ]
  },
  {
   "cell_type": "code",
   "execution_count": 234,
   "id": "ad59fc2f-d90c-4d01-8e9a-f2563efff3f1",
   "metadata": {},
   "outputs": [
    {
     "data": {
      "text/plain": [
       "array([2., 5.])"
      ]
     },
     "execution_count": 234,
     "metadata": {},
     "output_type": "execute_result"
    }
   ],
   "source": [
    "pos = np.array([3, 4])\n",
    "step = np.array([0, 1])\n",
    "move(pos, step, wind)"
   ]
  },
  {
   "cell_type": "code",
   "execution_count": 235,
   "id": "7faede62-d939-4bf7-97f7-19a862dee722",
   "metadata": {},
   "outputs": [
    {
     "data": {
      "text/plain": [
       "array([1, 0])"
      ]
     },
     "execution_count": 235,
     "metadata": {},
     "output_type": "execute_result"
    }
   ],
   "source": [
    "movements[action]"
   ]
  },
  {
   "cell_type": "code",
   "execution_count": 269,
   "id": "05be1463-ea5b-414e-a6b0-5f1673f57ea7",
   "metadata": {},
   "outputs": [
    {
     "data": {
      "text/plain": [
       "array([-1.,  0.])"
      ]
     },
     "execution_count": 269,
     "metadata": {},
     "output_type": "execute_result"
    }
   ],
   "source": [
    "wind[*pos]"
   ]
  },
  {
   "cell_type": "markdown",
   "id": "5c80035f-3dbc-4b74-8c86-761cc8df7fec",
   "metadata": {},
   "source": [
    "## Another gridworld"
   ]
  },
  {
   "cell_type": "code",
   "execution_count": 289,
   "id": "95f23065-c2db-4a5c-bf61-fda194c885b3",
   "metadata": {},
   "outputs": [
    {
     "data": {
      "text/plain": [
       "array([[ 0,  1,  2,  3,  4,  5,  6,  7,  8,  9],\n",
       "       [10, 11, 12, 13, 14, 15, 16, 17, 18, 19],\n",
       "       [20, 21, 22, 23, 24, 25, 26, 27, 28, 29],\n",
       "       [30, 31, 32, 33, 34, 35, 36, 37, 38, 39],\n",
       "       [40, 41, 42, 43, 44, 45, 46, 47, 48, 49],\n",
       "       [50, 51, 52, 53, 54, 55, 56, 57, 58, 59],\n",
       "       [60, 61, 62, 63, 64, 65, 66, 67, 68, 69]])"
      ]
     },
     "execution_count": 289,
     "metadata": {},
     "output_type": "execute_result"
    }
   ],
   "source": [
    "n_rows = 7\n",
    "n_cols = 10\n",
    "ixs = np.arange(n_rows * n_cols).reshape(n_rows, n_cols)\n",
    "ixs"
   ]
  },
  {
   "cell_type": "code",
   "execution_count": 292,
   "id": "d550c072-1370-4dd7-b948-202a743f4b51",
   "metadata": {},
   "outputs": [],
   "source": [
    "def get_pos(ix, n_cols):\n",
    "    col = ix // n_cols\n",
    "    row = ix % n_cols\n",
    "    pos = np.array([col, row])\n",
    "    return pos"
   ]
  },
  {
   "cell_type": "code",
   "execution_count": 293,
   "id": "7d289639-01ad-41fe-83aa-3867b554ca20",
   "metadata": {},
   "outputs": [
    {
     "data": {
      "text/plain": [
       "array([3, 0])"
      ]
     },
     "execution_count": 293,
     "metadata": {},
     "output_type": "execute_result"
    }
   ],
   "source": [
    "get_pos(30, n_cols)"
   ]
  },
  {
   "cell_type": "code",
   "execution_count": 274,
   "id": "0f904f21-90cf-43e9-ba81-3b33e673d301",
   "metadata": {},
   "outputs": [
    {
     "data": {
      "text/plain": [
       "array([[0, 0, 0, 0, 0, 0],\n",
       "       [1, 1, 1, 1, 1, 1],\n",
       "       [2, 2, 2, 2, 2, 2]])"
      ]
     },
     "execution_count": 274,
     "metadata": {},
     "output_type": "execute_result"
    }
   ],
   "source": [
    "n_rows = 3\n",
    "n_cols = 6\n",
    "np.arange(n_rows * n_cols).reshape(n_rows, n_cols) // n_cols"
   ]
  },
  {
   "cell_type": "code",
   "execution_count": 275,
   "id": "5ea0b94b-367e-40db-96be-bb4a0f75ab62",
   "metadata": {},
   "outputs": [
    {
     "data": {
      "text/plain": [
       "array([[0, 0, 0],\n",
       "       [1, 1, 1],\n",
       "       [2, 2, 2],\n",
       "       [3, 3, 3],\n",
       "       [4, 4, 4],\n",
       "       [5, 5, 5]])"
      ]
     },
     "execution_count": 275,
     "metadata": {},
     "output_type": "execute_result"
    }
   ],
   "source": [
    "n_rows = 6\n",
    "n_cols = 3\n",
    "np.arange(n_rows * n_cols).reshape(n_rows, n_cols) // n_cols"
   ]
  }
 ],
 "metadata": {
  "kernelspec": {
   "display_name": "numbaenv",
   "language": "python",
   "name": "numbaenv"
  },
  "language_info": {
   "codemirror_mode": {
    "name": "ipython",
    "version": 3
   },
   "file_extension": ".py",
   "mimetype": "text/x-python",
   "name": "python",
   "nbconvert_exporter": "python",
   "pygments_lexer": "ipython3",
   "version": "3.12.1"
  }
 },
 "nbformat": 4,
 "nbformat_minor": 5
}
