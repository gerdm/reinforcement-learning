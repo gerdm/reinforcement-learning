{
 "cells": [
  {
   "cell_type": "code",
   "execution_count": 1,
   "id": "a6d932ab-336e-467a-8e10-4577c620773d",
   "metadata": {},
   "outputs": [],
   "source": [
    "import numpy as np\n",
    "import matplotlib.pyplot as plt\n",
    "import matplotlib.ticker as ticker\n",
    "from numba import njit"
   ]
  },
  {
   "cell_type": "code",
   "execution_count": 2,
   "id": "569fe259-97ae-43ac-9250-b65dc69e6eeb",
   "metadata": {},
   "outputs": [],
   "source": [
    "%config InlineBackend.figure_format = \"retina\""
   ]
  },
  {
   "cell_type": "code",
   "execution_count": 3,
   "id": "a85f22cc-2d31-45b6-967c-0f988040cfb4",
   "metadata": {},
   "outputs": [],
   "source": [
    "n_rows = 7\n",
    "n_cols = 10\n",
    "gridworld = np.zeros((n_rows, n_cols))"
   ]
  },
  {
   "cell_type": "code",
   "execution_count": 4,
   "id": "0e55b730-7f96-44cd-ac20-0ec5e1c24d66",
   "metadata": {},
   "outputs": [],
   "source": [
    "init_pos = np.array([3, 0])\n",
    "goal_pos = np.array([3, 7])"
   ]
  },
  {
   "cell_type": "code",
   "execution_count": 5,
   "id": "8119a05d-d373-4c8b-bb0d-d81d0a21128a",
   "metadata": {},
   "outputs": [
    {
     "data": {
      "image/png": "[encoded data removed]",
      "text/plain": [
       "<Figure size 600x420 with 1 Axes>"
      ]
     },
     "metadata": {
      "image/png": {
       "height": 348,
       "width": 489
      }
     },
     "output_type": "display_data"
    }
   ],
   "source": [
    "fig, ax = plt.subplots(figsize=(n_cols * 0.6, n_rows * 0.6))\n",
    "xticks = np.arange(n_cols + 1)\n",
    "yticks = np.arange(n_rows + 1)\n",
    "\n",
    "init = init_pos[::-1] + 0.5\n",
    "goal = goal_pos[::-1] + 0.5\n",
    "ax.scatter(*init, marker=\"$S$\", s=100)\n",
    "ax.scatter(*goal, marker=\"$G$\", s =100, c=\"crimson\")\n",
    "# plt.scatter(*finish_pos)\n",
    "\n",
    "ax.set_xticks(xticks, labels=\"\")\n",
    "plt.yticks(yticks, labels=\"\")\n",
    "\n",
    "\n",
    "plt.grid()"
   ]
  },
  {
   "cell_type": "code",
   "execution_count": 6,
   "id": "44752540-5e35-41e8-8025-43ed738e5463",
   "metadata": {},
   "outputs": [],
   "source": [
    "movements = np.array([\n",
    "    [0, 1], # right\n",
    "    [0, -1], # left\n",
    "    [1, 0], # down,\n",
    "    [-1, 0], # up\n",
    "    [0, 0], # nothing\n",
    "])\n",
    "n_actions = len(movements)\n",
    "\n",
    "name_movements = [\"right\", \"left\", \"down\", \"up\", \"nothing\"]"
   ]
  },
  {
   "cell_type": "code",
   "execution_count": 7,
   "id": "e002175c-d65c-4096-be2e-e34d399efacb",
   "metadata": {},
   "outputs": [],
   "source": [
    "@njit\n",
    "def get_probas(qval, epsilon):\n",
    "    qmax = qval.max()\n",
    "    n_actions = len(qval)\n",
    "    mask = qmax == qval\n",
    "\n",
    "    if np.all(mask):\n",
    "        probas = np.ones(n_actions) / n_actions\n",
    "    elif sum(mask) > 1:\n",
    "        n_equal = sum(mask)\n",
    "        probas = epsilon * np.ones(n_actions) /  n_actions\n",
    "        probas = ((1 - epsilon) / n_actions + epsilon) * mask +  probas * (1 - mask)\n",
    "    else:\n",
    "        # return epsilon-greeedy action\n",
    "        action_max = qval.argmax()\n",
    "        probas = epsilon * np.ones(n_actions) / n_actions\n",
    "        probas[action_max] = 1 - epsilon + epsilon / n_actions\n",
    "\n",
    "    return probas"
   ]
  },
  {
   "cell_type": "markdown",
   "id": "5c80035f-3dbc-4b74-8c86-761cc8df7fec",
   "metadata": {},
   "source": [
    "## Another gridworld"
   ]
  },
  {
   "cell_type": "code",
   "execution_count": 8,
   "id": "95f23065-c2db-4a5c-bf61-fda194c885b3",
   "metadata": {},
   "outputs": [
    {
     "data": {
      "text/plain": [
       "array([[ 0,  1,  2,  3,  4,  5,  6,  7,  8,  9],\n",
       "       [10, 11, 12, 13, 14, 15, 16, 17, 18, 19],\n",
       "       [20, 21, 22, 23, 24, 25, 26, 27, 28, 29],\n",
       "       [30, 31, 32, 33, 34, 35, 36, 37, 38, 39],\n",
       "       [40, 41, 42, 43, 44, 45, 46, 47, 48, 49],\n",
       "       [50, 51, 52, 53, 54, 55, 56, 57, 58, 59],\n",
       "       [60, 61, 62, 63, 64, 65, 66, 67, 68, 69]])"
      ]
     },
     "execution_count": 8,
     "metadata": {},
     "output_type": "execute_result"
    }
   ],
   "source": [
    "n_rows = 7\n",
    "n_cols = 10\n",
    "ixs = np.arange(n_rows * n_cols).reshape(n_rows, n_cols)\n",
    "ixs"
   ]
  },
  {
   "cell_type": "code",
   "execution_count": 9,
   "id": "25344d0e-4bbb-4f0c-ac22-537e70f480e9",
   "metadata": {},
   "outputs": [],
   "source": [
    "# @njit\n",
    "def get_pos(ix, n_cols):\n",
    "    row = ix // n_cols\n",
    "    col = ix % n_cols\n",
    "    pos = np.array([row, col])\n",
    "    # pos = np.array([col, row])\n",
    "    return pos\n",
    "\n",
    "\n",
    "# @njit\n",
    "def get_ix(pos, n_cols):\n",
    "    row, col = pos\n",
    "    ix = row * n_cols + col\n",
    "    return ix\n",
    "\n",
    "\n",
    "# @njit\n",
    "def move_pos(pos, step, n_row, n_cols):\n",
    "    row, col = pos\n",
    "    row_next, col_next = pos + step\n",
    "    \n",
    "    if (row_next < 0) or (row_next >= n_rows):\n",
    "        row_next = row\n",
    "    if (col_next < 0) or (col_next >= n_cols):\n",
    "        col_next = col\n",
    "    \n",
    "    pos_next = np.array([row_next, col_next])\n",
    "    return pos_next\n",
    "\n",
    "\n",
    "# @njit\n",
    "def choose_action(ix, Q, epsilon):\n",
    "    probas = get_probas(Q[ix], epsilon)\n",
    "    action = np.random.multinomial(1, probas).argmax()\n",
    "    return action\n",
    "\n",
    "\n",
    "# @njit\n",
    "def move_and_reward(\n",
    "    ix, step, n_rows, n_cols, start_state, end_state, reward_goal, move_fn\n",
    "):\n",
    "    ix_new = move_fn(ix, step, n_rows, n_cols) # new s\n",
    "\n",
    "    reward = -1 if ix != end_state else reward_goal\n",
    "    ix_new = ix_new if ix != end_state else start_state\n",
    "    \n",
    "    # reward = -1 if ix_new != end_state else reward_goal\n",
    "    # ix_new = ix_new if ix_new != end_state else start_state\n",
    "    return ix_new, reward\n",
    "\n",
    "\n",
    "# @njit\n",
    "def sarsa_step(\n",
    "    s, a, Q, epsilon, n_rows, n_cols, start_state, end_state, reward_goal, move_fn\n",
    "):\n",
    "    # (s, a) -> (r, s_new, a_new)\n",
    "    step = movements[action]\n",
    "    s_new, r = move_and_reward(s, step, n_rows, n_cols, start_state, end_state, reward_goal, move_fn)\n",
    "    a_new = choose_action(s_new, Q, epsilon)\n",
    "\n",
    "    return r, s_new, a_new"
   ]
  },
  {
   "cell_type": "code",
   "execution_count": 10,
   "id": "31de5314-d837-4077-a25e-8eabaa98bd69",
   "metadata": {},
   "outputs": [],
   "source": [
    "# @njit\n",
    "def move(ix, step, n_rows, n_cols):\n",
    "    pos = get_pos(ix, n_cols)\n",
    "    pos_new = move_pos(pos, step, n_rows, n_cols)\n",
    "    ix_new = get_ix(pos_new, n_cols)\n",
    "    return ix_new\n",
    "    \n",
    "\n",
    "def wind_strength(n_row, n_col):\n",
    "    c_strength = 0\n",
    "    \n",
    "    # s = np.random.uniform() > 1/3\n",
    "    if n_col in [3, 4, 5, 8]:\n",
    "        r_strength = -1 \n",
    "    elif n_col in [6, 7]:\n",
    "        r_strength = -2 \n",
    "    elif n_col in [1]: # optional\n",
    "        r_strength = 2\n",
    "    else:\n",
    "        r_strength = 0\n",
    "\n",
    "    move_wind = np.array([r_strength, c_strength])\n",
    "    return move_wind\n",
    "\n",
    "\n",
    "def move_wind(ix, step, n_rows, n_cols):\n",
    "    pos = get_pos(ix, n_cols)\n",
    "    wind_shift = wind_strength(*pos)\n",
    "    \n",
    "    pos_new = move_pos(pos, step + wind_shift, n_rows, n_cols)\n",
    "    # pos_new = move_pos(pos_new, wind_shift, n_rows, n_cols)\n",
    "    \n",
    "    ix_new = get_ix(pos_new, n_cols)\n",
    "    return ix_new"
   ]
  },
  {
   "cell_type": "code",
   "execution_count": 49,
   "id": "92bf0187-9890-497e-947a-48af25eb2dbd",
   "metadata": {},
   "outputs": [],
   "source": [
    "Q = np.zeros((n_rows * n_cols, n_actions)) # action-value function\n",
    "\n",
    "epsilon = 0.01\n",
    "alpha = 0.5\n",
    "gamma = 1.0\n",
    "start_state = 30\n",
    "end_state =  37 #69\n",
    "\n",
    "reward_goal = 20\n",
    "\n",
    "ix = start_state\n",
    "action = choose_action(ix, Q, epsilon)\n",
    "ix_hist = [start_state]\n",
    "action_hist = [action]\n",
    "reward_hist = [0]\n",
    "\n",
    "np.random.seed(314)\n",
    "for _ in range(5000):\n",
    "    r, ix_new, action_new = sarsa_step(ix, action, Q, epsilon, n_rows, n_cols, start_state, end_state, reward_goal, move_wind)\n",
    "    # SARSA update\n",
    "    Q[ix, action] = Q[ix, action] + alpha * (r + gamma * Q[ix_new, action_new] - Q[ix, action])\n",
    "    ix, action = ix_new, action_new\n",
    "\n",
    "    action_hist.append(action)\n",
    "    ix_hist.append(ix)\n",
    "    reward_hist.append(r)\n",
    "\n",
    "action_hist = np.array(action_hist)\n",
    "ix_hist = np.array(ix_hist)\n",
    "reward_hist = np.array(reward_hist)"
   ]
  },
  {
   "cell_type": "code",
   "execution_count": 50,
   "id": "8143c19f-9d71-43a7-b25b-7a2035cacfef",
   "metadata": {},
   "outputs": [],
   "source": [
    "ix_goal = np.where(reward_hist == reward_goal)[0]\n",
    "pos_hist = np.c_[ix_hist % n_cols, ix_hist // n_cols]\n",
    "distance_hist = np.abs(pos_hist - get_pos(end_state, n_cols)).sum(axis=1)"
   ]
  },
  {
   "cell_type": "code",
   "execution_count": 51,
   "id": "609d213a-deda-4dcc-814f-1154a2a9f0c7",
   "metadata": {},
   "outputs": [],
   "source": [
    "markers = {\n",
    "    \"down\": \"v\",\n",
    "    \"up\": \"^\",\n",
    "    \"right\": \">\",\n",
    "    \"left\": \"<\",\n",
    "    \"nothing\": \"o\"\n",
    "}"
   ]
  },
  {
   "cell_type": "code",
   "execution_count": 52,
   "id": "e896ed1d-f1bd-48b0-a010-0900b369df94",
   "metadata": {},
   "outputs": [
    {
     "data": {
      "image/png": "[encoded data removed]",
      "text/plain": [
       "<Figure size 600x350 with 1 Axes>"
      ]
     },
     "metadata": {
      "image/png": {
       "height": 311,
       "width": 501
      }
     },
     "output_type": "display_data"
    }
   ],
   "source": [
    "run = -2\n",
    "iinit = ix_goal[run]\n",
    "iend = ix_goal[run + 1]\n",
    "\n",
    "subhist_action = action_hist[iinit:iend]\n",
    "subhist_action = [name_movements[a] for a in subhist_action]\n",
    "subhist_action = [markers[action] for action in subhist_action]\n",
    "\n",
    "subhist_pos = pos_hist[iinit:iend]\n",
    "\n",
    "fig, ax = plt.subplots(figsize=(n_cols * 0.6, n_rows * 0.5))\n",
    "plt.plot(*subhist_pos.T, c=\"black\", linestyle=\"--\")\n",
    "\n",
    "for (x,y), m in zip(subhist_pos, subhist_action):\n",
    "    plt.scatter(x, y, marker=m, zorder=3, s=50, c=\"crimson\")\n",
    "\n",
    "xticks = np.arange(n_cols)\n",
    "yticks = np.arange(n_rows)\n",
    "ax.set(\n",
    "    xticks=xticks + 0.5,\n",
    "    yticks=yticks + 0.5,\n",
    "    xticklabels=\"\",\n",
    "    yticklabels=\"\",\n",
    ")\n",
    "ax.set_xticks(xticks, labels=xticks, minor=True)\n",
    "ax.set_yticks(yticks, labels=yticks, minor=True)\n",
    "\n",
    "# ax.scatter(*pos_hist[iinit], marker=\"$S$\", s=100, zorder=3)\n",
    "# ax.scatter(*pos_hist[iend-1], marker=\"$G$\", s =100, c=\"crimson\", zorder=3)\n",
    "ax.set_ylim(-0.5, n_rows - 0.5)\n",
    "ax.set_xlim(-0.5, n_cols - 0.5)\n",
    "ax.invert_yaxis()\n",
    "\n",
    "plt.grid(alpha=0.3)\n",
    "plt.savefig(\"windy-gridworld.png\", bbox_inches=\"tight\", dpi=150)"
   ]
  },
  {
   "cell_type": "code",
   "execution_count": 53,
   "id": "54d220db-d40e-4578-ba60-a5eef6ff2904",
   "metadata": {},
   "outputs": [
    {
     "data": {
      "text/plain": [
       "63"
      ]
     },
     "execution_count": 53,
     "metadata": {},
     "output_type": "execute_result"
    }
   ],
   "source": [
    "(reward_hist == reward_goal).sum()"
   ]
  },
  {
   "cell_type": "code",
   "execution_count": 54,
   "id": "b313327f-b56a-4029-96ef-e320e9120bab",
   "metadata": {},
   "outputs": [
    {
     "data": {
      "text/plain": [
       "array([17, 17, 17, 17, 17, 17, 17, 17, 17])"
      ]
     },
     "execution_count": 54,
     "metadata": {},
     "output_type": "execute_result"
    }
   ],
   "source": [
    "np.diff(ix_goal[-10:])"
   ]
  },
  {
   "cell_type": "code",
   "execution_count": 55,
   "id": "6e583fb0-4e76-4267-8f21-e9ff8c3e8850",
   "metadata": {},
   "outputs": [
    {
     "data": {
      "text/plain": [
       "54.32258064516129"
      ]
     },
     "execution_count": 55,
     "metadata": {},
     "output_type": "execute_result"
    }
   ],
   "source": [
    "np.diff(ix_goal[-1000:]).mean()"
   ]
  },
  {
   "cell_type": "code",
   "execution_count": 56,
   "id": "3620887d-e5d1-4ce8-a606-ce92e23ed5b3",
   "metadata": {},
   "outputs": [
    {
     "data": {
      "image/png": "[encoded data removed]",
      "text/plain": [
       "<Figure size 640x480 with 1 Axes>"
      ]
     },
     "metadata": {
      "image/png": {
       "height": 413,
       "width": 543
      }
     },
     "output_type": "display_data"
    }
   ],
   "source": [
    "plt.plot((reward_hist == reward_goal).cumsum(), c=\"black\")\n",
    "plt.grid(alpha=0.3)"
   ]
  }
 ],
 "metadata": {
  "kernelspec": {
   "display_name": "numbaenv",
   "language": "python",
   "name": "numbaenv"
  },
  "language_info": {
   "codemirror_mode": {
    "name": "ipython",
    "version": 3
   },
   "file_extension": ".py",
   "mimetype": "text/x-python",
   "name": "python",
   "nbconvert_exporter": "python",
   "pygments_lexer": "ipython3",
   "version": "3.12.1"
  }
 },
 "nbformat": 4,
 "nbformat_minor": 5
}
