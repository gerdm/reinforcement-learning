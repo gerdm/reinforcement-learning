{
 "cells": [
  {
   "cell_type": "code",
   "execution_count": 1,
   "id": "a40709a6-7d3d-473b-b03e-1d10b18be0cc",
   "metadata": {},
   "outputs": [],
   "source": [
    "import numpy as np\n",
    "import matplotlib.pyplot as plt"
   ]
  },
  {
   "cell_type": "code",
   "execution_count": 2,
   "id": "2faa9b3e-3013-479b-9d62-8222c5d7772e",
   "metadata": {},
   "outputs": [],
   "source": [
    "%config InlineBackend.figure_format = \"retina\""
   ]
  },
  {
   "cell_type": "markdown",
   "id": "ab8f3f6d-b1cf-400f-9145-63f178dca638",
   "metadata": {},
   "source": [
    "**The MC update**\n",
    "$$\n",
    "    V(S_t) = V(S_t) + \\alpha[\\overbrace{G_t}^\\text{MC target} - V(S_t)]\n",
    "$$\n",
    "\n",
    "**The TD update**\n",
    "$$\n",
    "    V(S_t) = V(S_t) + \\alpha[\\overbrace{R_{t+1} + \\gamma V(S_{t+1})}^{\\text{TD target}} - V(S_t)]\n",
    "$$"
   ]
  },
  {
   "cell_type": "markdown",
   "id": "0c050dfc-00f0-487a-8ebf-41e2325e435f",
   "metadata": {},
   "source": [
    "## Markov reward process (MRP)\n",
    "An MRP is a Markov decision process without actions —\n",
    "we do not distinguish between dynamics of the enviroment and the dynamics based on actions."
   ]
  },
  {
   "cell_type": "code",
   "execution_count": 29,
   "id": "28f108db-9db7-43da-be26-dbe654e17eb6",
   "metadata": {},
   "outputs": [
    {
     "data": {
      "text/plain": [
       "array([[1. , 0. , 0. , 0. , 0. ],\n",
       "       [0.5, 0. , 0.5, 0. , 0. ],\n",
       "       [0. , 0.5, 0. , 0.5, 0. ],\n",
       "       [0. , 0. , 0.5, 0. , 0.5],\n",
       "       [0.5, 0. , 0. , 0.5, 0. ]])"
      ]
     },
     "execution_count": 29,
     "metadata": {},
     "output_type": "execute_result"
    }
   ],
   "source": [
    "n_states = 4 + 1 # total state plus terminal state\n",
    "states = np.arange(n_states)\n",
    "mrp = np.zeros((n_states, n_states))\n",
    "mrp[0, 0] = 1.0\n",
    "\n",
    "for i in range(1, n_states):\n",
    "    iprev = i - 1\n",
    "    inext = (i + 1) % n_states\n",
    "    mrp[i, [i - 1, inext]] = 1/2\n",
    "\n",
    "mrp"
   ]
  },
  {
   "cell_type": "code",
   "execution_count": 78,
   "id": "03150fa5-9c67-42e0-a121-6741ae1132a9",
   "metadata": {},
   "outputs": [],
   "source": [
    "def sample_run(s):\n",
    "    s_hist = [s]\n",
    "    r_hist = []\n",
    "    r = 0\n",
    "    while s != 0:\n",
    "        snext = np.random.choice(states, p=mrp[s])\n",
    "        r += 1 if (s == n_states - 1) and (snext == 0) else 0\n",
    "        s = snext\n",
    "        s_hist.append(s)\n",
    "        r_hist.append(r)\n",
    "    return s_hist, r_hist"
   ]
  },
  {
   "cell_type": "code",
   "execution_count": 131,
   "id": "44a23530-f3b4-49a6-8f3c-5621980e814f",
   "metadata": {},
   "outputs": [],
   "source": [
    "r = 0\n",
    "alpha = 0.1\n",
    "gamma = 1.0\n",
    "\n",
    "n_sims = 100\n",
    "value_td = np.zeros(n_states)\n",
    "value_td_hist = np.zeros((n_sims, n_states))\n",
    "\n",
    "for n in range(n_sims):\n",
    "    s = 3\n",
    "    while s != 0:\n",
    "        snext = np.random.choice(states, p=mrp[s])\n",
    "        r += 1 if (s == n_states - 1) and (snext == 0) else 0\n",
    "        \n",
    "        target = r + gamma * value_td[snext]\n",
    "        value_td[s] = value_td[s] + alpha * (target - value_td[s])\n",
    "        value_td_hist[n] = value_td\n",
    "        s = snext"
   ]
  },
  {
   "cell_type": "code",
   "execution_count": 139,
   "id": "e0e94174-3fed-49ce-86af-cc28cf532d1d",
   "metadata": {},
   "outputs": [
    {
     "data": {
      "text/plain": [
       "array([  0.        , 155.19845648, 267.098006  , 286.22099028,\n",
       "       181.31438948])"
      ]
     },
     "execution_count": 139,
     "metadata": {},
     "output_type": "execute_result"
    }
   ],
   "source": [
    "value_td"
   ]
  },
  {
   "cell_type": "code",
   "execution_count": 138,
   "id": "5b3b6745-e21c-40c3-86f0-73c73ea0f56c",
   "metadata": {},
   "outputs": [
    {
     "data": {
      "text/plain": [
       "(100, 5)"
      ]
     },
     "execution_count": 138,
     "metadata": {},
     "output_type": "execute_result"
    }
   ],
   "source": [
    "value_td_hist.shape"
   ]
  }
 ],
 "metadata": {
  "kernelspec": {
   "display_name": "Python 3 (ipykernel)",
   "language": "python",
   "name": "python3"
  },
  "language_info": {
   "codemirror_mode": {
    "name": "ipython",
    "version": 3
   },
   "file_extension": ".py",
   "mimetype": "text/x-python",
   "name": "python",
   "nbconvert_exporter": "python",
   "pygments_lexer": "ipython3",
   "version": "3.11.5"
  }
 },
 "nbformat": 4,
 "nbformat_minor": 5
}
