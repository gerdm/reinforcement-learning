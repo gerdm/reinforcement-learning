{
 "cells": [
  {
   "cell_type": "markdown",
   "id": "dda105bf-d214-4074-aebf-45647f316f6c",
   "metadata": {},
   "source": [
    "# Off-policy estimation "
   ]
  },
  {
   "cell_type": "code",
   "execution_count": 1,
   "id": "4411ba9b-5c24-4abc-a2b1-30367dff2d50",
   "metadata": {
    "tags": []
   },
   "outputs": [],
   "source": [
    "import numpy as np\n",
    "import pandas as pd\n",
    "import blackjack as b21\n",
    "import matplotlib.pyplot as plt\n",
    "from numba import njit, prange"
   ]
  },
  {
   "cell_type": "code",
   "execution_count": 2,
   "id": "ec5e04be-a59c-46b5-8c53-92fdf32df2ca",
   "metadata": {
    "tags": []
   },
   "outputs": [],
   "source": [
    "%config InlineBackend.figure_format = \"retina\"\n",
    "%load_ext autoreload\n",
    "%autoreload 2"
   ]
  },
  {
   "cell_type": "markdown",
   "id": "a5789600-02da-41df-8383-4e1f4c87d999",
   "metadata": {},
   "source": [
    "## Example 5.4: Off-policy estimation of a Blackjack state value"
   ]
  },
  {
   "cell_type": "code",
   "execution_count": 3,
   "id": "a22e443f-6072-4ad2-9da3-8520965f595b",
   "metadata": {
    "tags": []
   },
   "outputs": [],
   "source": [
    "# We consider the policy that sticks if the player's sum is 20 or 21\n",
    "# and sticks otherwise\n",
    "policy_init = np.zeros((\n",
    "    b21.PLAY_MAXVAL - b21.PLAY_MINVAL, # Player's value\n",
    "    2, # has usable ace\n",
    "    10, # Dealer's one showing card\n",
    "    2, # hit or stick\n",
    "))\n",
    "\n",
    "policy_init[..., 1] = 0.5 # hit for v < 20\n",
    "policy_init[..., 0] = 0.5 # stick for v >= 20\n",
    "# policy.shape"
   ]
  },
  {
   "cell_type": "code",
   "execution_count": 4,
   "id": "f0d188b8-7fab-4468-8bbd-096a063aad57",
   "metadata": {
    "tags": []
   },
   "outputs": [
    {
     "data": {
      "text/plain": [
       "(1.0,\n",
       " (19, 18),\n",
       " ([[13, 1, 2], [19, 1, 2], [19, 1, 2]], [1, 0, 0], [0.0, 0.0, 1.0]))"
      ]
     },
     "execution_count": 4,
     "metadata": {},
     "output_type": "execute_result"
    }
   ],
   "source": [
    "value_cards_player = 13\n",
    "has_usable_ace = True\n",
    "dealers_card = 2\n",
    "\n",
    "b21.play_single_hist(value_cards_player, has_usable_ace, dealers_card, policy_init)"
   ]
  },
  {
   "cell_type": "markdown",
   "id": "ad5de4cb-3cb5-4590-89e7-86f4638516f8",
   "metadata": {},
   "source": [
    "## The target policy"
   ]
  },
  {
   "cell_type": "code",
   "execution_count": 5,
   "id": "bea2a8a9-7c6f-41aa-ac13-0b2b1e7683bd",
   "metadata": {
    "tags": []
   },
   "outputs": [],
   "source": [
    "# We consider the policy that sticks if the player's sum is 20 or 21\n",
    "# and sticks otherwise\n",
    "policy_target = np.zeros((\n",
    "    b21.PLAY_MAXVAL - b21.PLAY_MINVAL, # Player's value\n",
    "    2, # has usable ace\n",
    "    10, # Dealer's one showing card\n",
    "    2, # hit or stick\n",
    "))\n",
    "\n",
    "policy_target[:-2, ..., 1] = 1 # hit for v < 20\n",
    "policy_target[-2:, ..., 0] = 1 # stick for v >= 20\n",
    "# policy.shape"
   ]
  },
  {
   "cell_type": "code",
   "execution_count": 6,
   "id": "a6713ab3-c2f7-4b9d-a751-ebfe4c765139",
   "metadata": {
    "tags": []
   },
   "outputs": [
    {
     "data": {
      "text/plain": [
       "17"
      ]
     },
     "execution_count": 6,
     "metadata": {},
     "output_type": "execute_result"
    }
   ],
   "source": [
    "b21.PLAY_MAXVAL - b21.PLAY_MINVAL"
   ]
  },
  {
   "cell_type": "code",
   "execution_count": 7,
   "id": "c1d4ce7f-2947-4352-98e2-4bf785fa2e75",
   "metadata": {
    "tags": []
   },
   "outputs": [
    {
     "data": {
      "text/plain": [
       "(17, 2, 10, 2)"
      ]
     },
     "execution_count": 7,
     "metadata": {},
     "output_type": "execute_result"
    }
   ],
   "source": [
    "policy_target.shape"
   ]
  },
  {
   "cell_type": "code",
   "execution_count": 8,
   "id": "1de827b5-f509-41c2-bb3a-a8643abe181d",
   "metadata": {
    "tags": []
   },
   "outputs": [
    {
     "data": {
      "text/plain": [
       "(0.0,\n",
       " (19, 19),\n",
       " ([[13, 1, 2], [19, 1, 2], [19, 1, 2]], [1, 0, 0], [0.0, 0.0, 0.0]))"
      ]
     },
     "execution_count": 8,
     "metadata": {},
     "output_type": "execute_result"
    }
   ],
   "source": [
    "value_cards_player = 13\n",
    "has_usable_ace = True\n",
    "dealers_card = 2\n",
    "\n",
    "b21.play_single_hist(value_cards_player, has_usable_ace, dealers_card, policy_target)"
   ]
  },
  {
   "cell_type": "code",
   "execution_count": 20,
   "id": "54ff5067-94a8-4cc6-883e-e523db008a21",
   "metadata": {
    "tags": []
   },
   "outputs": [],
   "source": [
    "@njit(parallel=True)\n",
    "def multiple_runs_target(value_cards_player, has_usable_ace, dealers_card, n_runs, policy):\n",
    "    rewards = 0.0\n",
    "    counts = 0.0\n",
    "    for n in prange(n_runs):\n",
    "        reward, _ = b21.play_single(value_cards_player, has_usable_ace, dealers_card, policy)\n",
    "        rewards += reward\n",
    "        counts += 1\n",
    "    return rewards, counts"
   ]
  },
  {
   "cell_type": "code",
   "execution_count": 21,
   "id": "b78bf03e-4ef3-4c24-b890-e61e1fddaac7",
   "metadata": {
    "tags": []
   },
   "outputs": [
    {
     "name": "stdout",
     "output_type": "stream",
     "text": [
      "CPU times: user 5.82 s, sys: 0 ns, total: 5.82 s\n",
      "Wall time: 1.42 s\n"
     ]
    }
   ],
   "source": [
    "%%time\n",
    "n_sims = 10_000_000\n",
    "value_cards_player = 13\n",
    "has_usable_ace = True\n",
    "dealers_card = 2\n",
    "\n",
    "rewards_target, count = multiple_runs_target(value_cards_player, has_usable_ace, dealers_card, n_sims, policy_target)"
   ]
  },
  {
   "cell_type": "code",
   "execution_count": 22,
   "id": "749a94d1-4ed4-4ff0-920b-6ce4558f28df",
   "metadata": {
    "tags": []
   },
   "outputs": [
    {
     "data": {
      "text/plain": [
       "-0.4487064"
      ]
     },
     "execution_count": 22,
     "metadata": {},
     "output_type": "execute_result"
    }
   ],
   "source": [
    "rewards_target / count"
   ]
  },
  {
   "cell_type": "code",
   "execution_count": 25,
   "id": "e126724d-59ce-4383-a816-bd322c317a41",
   "metadata": {
    "tags": []
   },
   "outputs": [
    {
     "data": {
      "text/plain": [
       "(21, 1, 0)"
      ]
     },
     "execution_count": 25,
     "metadata": {},
     "output_type": "execute_result"
    }
   ],
   "source": [
    "b21.state_to_ix(25, 1, 1)"
   ]
  },
  {
   "cell_type": "code",
   "execution_count": 26,
   "id": "0192758d-3b7e-4c17-82eb-d6a5960ce4f1",
   "metadata": {
    "tags": []
   },
   "outputs": [
    {
     "name": "stdout",
     "output_type": "stream",
     "text": [
      "-1\n",
      "\n",
      "(24, 21)\n",
      "\n",
      "([[13, 1, 2], [15, 1, 2], [24, 1, 2]], [1, 1, 0], [0, 0, -1])\n"
     ]
    }
   ],
   "source": [
    "r, value, hist = b21.play_single_hist(value_cards_player, has_usable_ace, dealers_card, policy_target)\n",
    "\n",
    "print(r, end=\"\\n\" * 2)\n",
    "print(value, end=\"\\n\" * 2)\n",
    "print(hist)"
   ]
  }
 ],
 "metadata": {
  "kernelspec": {
   "display_name": "research",
   "language": "python",
   "name": "research"
  },
  "language_info": {
   "codemirror_mode": {
    "name": "ipython",
    "version": 3
   },
   "file_extension": ".py",
   "mimetype": "text/x-python",
   "name": "python",
   "nbconvert_exporter": "python",
   "pygments_lexer": "ipython3",
   "version": "3.10.12"
  }
 },
 "nbformat": 4,
 "nbformat_minor": 5
}
