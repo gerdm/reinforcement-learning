{
 "cells": [
  {
   "cell_type": "markdown",
   "id": "9632afd1-efa3-4d78-9c28-3105e0487879",
   "metadata": {},
   "source": [
    "# Example 5.4: Off-policy estimation of a Blackjack state value"
   ]
  },
  {
   "cell_type": "code",
   "execution_count": 1,
   "id": "4411ba9b-5c24-4abc-a2b1-30367dff2d50",
   "metadata": {
    "tags": []
   },
   "outputs": [],
   "source": [
    "import numpy as np\n",
    "import pandas as pd\n",
    "import blackjack as b21\n",
    "import matplotlib.pyplot as plt\n",
    "from numba import njit, prange"
   ]
  },
  {
   "cell_type": "code",
   "execution_count": 2,
   "id": "ec5e04be-a59c-46b5-8c53-92fdf32df2ca",
   "metadata": {
    "tags": []
   },
   "outputs": [],
   "source": [
    "%config InlineBackend.figure_format = \"retina\"\n",
    "%load_ext autoreload\n",
    "%autoreload 2"
   ]
  },
  {
   "cell_type": "code",
   "execution_count": 3,
   "id": "306322ca-f547-4b6a-8ab5-1ac9825f0474",
   "metadata": {
    "tags": []
   },
   "outputs": [],
   "source": [
    "# We consider the policy that sticks if the player's sum is 20 or 21\n",
    "# and sticks otherwise\n",
    "policy_init = np.zeros((\n",
    "    b21.PLAY_MAXVAL - b21.PLAY_MINVAL + 1, # Player's value\n",
    "    2, # has usable ace\n",
    "    10, # Dealer's one showing card\n",
    "    2, # hit or stick\n",
    "))\n",
    "\n",
    "policy_init[..., 1] = 0.5 # hit for v < 20\n",
    "policy_init[..., 0] = 0.5 # stick for v >= 20"
   ]
  },
  {
   "cell_type": "code",
   "execution_count": 4,
   "id": "f0d188b8-7fab-4468-8bbd-096a063aad57",
   "metadata": {
    "tags": []
   },
   "outputs": [],
   "source": [
    "value_cards_player = 13\n",
    "has_usable_ace = True\n",
    "dealers_card = 2"
   ]
  },
  {
   "cell_type": "code",
   "execution_count": 5,
   "id": "0192758d-3b7e-4c17-82eb-d6a5960ce4f1",
   "metadata": {
    "tags": []
   },
   "outputs": [
    {
     "name": "stdout",
     "output_type": "stream",
     "text": [
      "reward: -1\n",
      "\n",
      "Final cards: (13, 21)\n",
      "\n",
      "([[13, 1, 2], [13, 1, 2]], [0, 0], [0, -1])\n"
     ]
    }
   ],
   "source": [
    "b21.set_seed(31415)\n",
    "r, value, hist = b21.play_single_hist(value_cards_player, has_usable_ace, dealers_card, policy_init)\n",
    "\n",
    "print(\"reward:\", r, end=\"\\n\" * 2)\n",
    "print(\"Final cards:\", value, end=\"\\n\" * 2)\n",
    "print(hist)"
   ]
  },
  {
   "cell_type": "code",
   "execution_count": 6,
   "id": "462a235d-b7f3-4b14-913a-766ebb42dffb",
   "metadata": {
    "tags": []
   },
   "outputs": [
    {
     "data": {
      "text/plain": [
       "([((15, 0, 9), -1.0, 1)], (28, 18), -1)"
      ]
     },
     "execution_count": 6,
     "metadata": {},
     "output_type": "execute_result"
    }
   ],
   "source": [
    "b21.set_seed(3141592)\n",
    "b21.single_first_visit_mc(policy_init)"
   ]
  },
  {
   "cell_type": "markdown",
   "id": "ad5de4cb-3cb5-4590-89e7-86f4638516f8",
   "metadata": {},
   "source": [
    "## The target policy -- baseline run"
   ]
  },
  {
   "cell_type": "code",
   "execution_count": 7,
   "id": "bea2a8a9-7c6f-41aa-ac13-0b2b1e7683bd",
   "metadata": {
    "tags": []
   },
   "outputs": [],
   "source": [
    "# We consider the policy that sticks if the player's sum is 20 or 21\n",
    "# and sticks otherwise\n",
    "policy_target = np.zeros((\n",
    "    b21.PLAY_MAXVAL - b21.PLAY_MINVAL + 1, # Player's value\n",
    "    2, # has usable ace\n",
    "    10, # Dealer's one showing card\n",
    "    2, # hit or stick\n",
    "))\n",
    "\n",
    "policy_target[:-2, ..., 1] = 1 # hit for v < 20\n",
    "policy_target[-2:, ..., 0] = 1 # stick for v >= 20\n",
    "# policy.shape"
   ]
  },
  {
   "cell_type": "code",
   "execution_count": 8,
   "id": "4f70c492-84e2-45b6-ba9a-af0606660290",
   "metadata": {
    "tags": []
   },
   "outputs": [
    {
     "data": {
      "text/plain": [
       "(18, 2, 10, 2)"
      ]
     },
     "execution_count": 8,
     "metadata": {},
     "output_type": "execute_result"
    }
   ],
   "source": [
    "policy_target.shape"
   ]
  },
  {
   "cell_type": "code",
   "execution_count": 9,
   "id": "54ff5067-94a8-4cc6-883e-e523db008a21",
   "metadata": {
    "tags": []
   },
   "outputs": [],
   "source": [
    "@njit(parallel=True)\n",
    "def multiple_runs_target(value_cards_player, has_usable_ace, dealers_card, n_runs, policy):\n",
    "    rewards = 0.0\n",
    "    counts = 0.0\n",
    "    for n in prange(n_runs):\n",
    "        reward, _ = b21.play_single(value_cards_player, has_usable_ace, dealers_card, policy)\n",
    "        rewards += reward\n",
    "        counts += 1\n",
    "    return rewards, counts"
   ]
  },
  {
   "cell_type": "code",
   "execution_count": 228,
   "id": "b78bf03e-4ef3-4c24-b890-e61e1fddaac7",
   "metadata": {
    "tags": []
   },
   "outputs": [
    {
     "name": "stdout",
     "output_type": "stream",
     "text": [
      "CPU times: user 4.17 s, sys: 0 ns, total: 4.17 s\n",
      "Wall time: 45.1 ms\n"
     ]
    }
   ],
   "source": [
    "%%time\n",
    "n_sims = 10_000_000\n",
    "value_cards_player = 13\n",
    "has_usable_ace = True\n",
    "dealers_card = 2\n",
    "\n",
    "rewards_target, count = multiple_runs_target(value_cards_player, has_usable_ace, dealers_card, n_sims, policy_target)"
   ]
  },
  {
   "cell_type": "code",
   "execution_count": 229,
   "id": "d9869403-5fb5-49c5-9227-8d8e7629de62",
   "metadata": {},
   "outputs": [
    {
     "data": {
      "text/plain": [
       "-5755598.0"
      ]
     },
     "execution_count": 229,
     "metadata": {},
     "output_type": "execute_result"
    }
   ],
   "source": [
    "rewards_target"
   ]
  },
  {
   "cell_type": "code",
   "execution_count": 230,
   "id": "749a94d1-4ed4-4ff0-920b-6ce4558f28df",
   "metadata": {
    "tags": []
   },
   "outputs": [
    {
     "data": {
      "text/plain": [
       "-0.5755598"
      ]
     },
     "execution_count": 230,
     "metadata": {},
     "output_type": "execute_result"
    }
   ],
   "source": [
    "rewards_target / count"
   ]
  },
  {
   "cell_type": "markdown",
   "id": "5c73859f-906d-427c-be17-f2436e27d025",
   "metadata": {},
   "source": [
    "## Ordinary importance sampling\n",
    "In this experiment we let\n",
    "* $b(\\cdot | s)$ — the behaviour policy, to be the random policy and\n",
    "* $\\pi(\\cdot | s)$ — the target policy, to be one where we stick only on 20 or 21."
   ]
  },
  {
   "cell_type": "code",
   "execution_count": 231,
   "id": "1f12ba4e-cfbb-4f19-b516-54658c37b889",
   "metadata": {
    "tags": []
   },
   "outputs": [],
   "source": [
    "r, value, hist = b21.play_single_hist(value_cards_player, has_usable_ace, dealers_card, policy_init)\n",
    "hist_state, hist_action, hist_reward = hist"
   ]
  },
  {
   "cell_type": "code",
   "execution_count": 232,
   "id": "cc918862-3281-4a7f-856c-a985e4824b2e",
   "metadata": {
    "tags": []
   },
   "outputs": [
    {
     "name": "stdout",
     "output_type": "stream",
     "text": [
      "CPU times: user 17.2 s, sys: 7.3 ms, total: 17.2 s\n",
      "Wall time: 17.2 s\n"
     ]
    }
   ],
   "source": [
    "%%time\n",
    "n_visits = 0\n",
    "terms_sum = 0\n",
    "den_sum = 0\n",
    "\n",
    "n_sims = 100\n",
    "rewards_is = [] # importance sampling\n",
    "rewards_wis = [] # weighted importance sampling\n",
    "\n",
    "for s in range(n_sims):\n",
    "    for i in range(10_000):\n",
    "        r, value, hist = b21.play_single_hist(value_cards_player, has_usable_ace, dealers_card, policy_init)\n",
    "        hist_state, hist_action, hist_reward = hist\n",
    "\n",
    "        prod_terms = []\n",
    "        for action, state in zip(hist_action, hist_state[:-1]):\n",
    "            ix = b21.state_to_ix(*state)\n",
    "            prod_term = (policy_target[ix] / policy_init[ix])[action]\n",
    "            prod_terms.append(prod_term)\n",
    "\n",
    "        n_visits += len(prod_terms)\n",
    "        cumprod_terms = np.cumprod(prod_terms)\n",
    "        terms_sum += (cumprod_terms * hist_reward[-1]).sum()\n",
    "        den_sum += cumprod_terms.sum()\n",
    "        \n",
    "    rewards_is.append(terms_sum / n_visits)\n",
    "    rewards_wis.append(terms_sum / den_sum)"
   ]
  },
  {
   "cell_type": "code",
   "execution_count": 233,
   "id": "80704ef9-a11f-4c85-91bf-e05a1eef2c67",
   "metadata": {
    "tags": []
   },
   "outputs": [
    {
     "data": {
      "text/plain": [
       "-0.593609510834706"
      ]
     },
     "execution_count": 233,
     "metadata": {},
     "output_type": "execute_result"
    }
   ],
   "source": [
    "np.array(rewards_is).mean()"
   ]
  },
  {
   "cell_type": "code",
   "execution_count": 234,
   "id": "23f8aff7-6e5a-424b-826e-12d3fb901275",
   "metadata": {
    "tags": []
   },
   "outputs": [
    {
     "data": {
      "text/plain": [
       "-0.45972232093204674"
      ]
     },
     "execution_count": 234,
     "metadata": {},
     "output_type": "execute_result"
    }
   ],
   "source": [
    "np.array(rewards_wis).mean()"
   ]
  }
 ],
 "metadata": {
  "kernelspec": {
   "display_name": "research",
   "language": "python",
   "name": "research"
  },
  "language_info": {
   "codemirror_mode": {
    "name": "ipython",
    "version": 3
   },
   "file_extension": ".py",
   "mimetype": "text/x-python",
   "name": "python",
   "nbconvert_exporter": "python",
   "pygments_lexer": "ipython3",
   "version": "3.10.12"
  }
 },
 "nbformat": 4,
 "nbformat_minor": 5
}
