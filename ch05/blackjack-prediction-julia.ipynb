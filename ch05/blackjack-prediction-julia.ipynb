{
 "cells": [
  {
   "cell_type": "markdown",
   "id": "d685a1b8",
   "metadata": {},
   "source": [
    "# Learning value-function in Blackjack"
   ]
  },
  {
   "cell_type": "code",
   "execution_count": 3,
   "id": "31a6736f",
   "metadata": {},
   "outputs": [],
   "source": [
    "using StatsBase"
   ]
  },
  {
   "cell_type": "code",
   "execution_count": 25,
   "id": "819d4a5c",
   "metadata": {},
   "outputs": [
    {
     "name": "stdout",
     "output_type": "stream",
     "text": [
      "[1, 2, 3, 4, 5, 6, 7, 8, 9, 10, 10, 10, 10]\n"
     ]
    }
   ],
   "source": [
    "deck = collect(1:13)\n",
    "deck[end-2:end] .= 10;\n",
    "println(deck)"
   ]
  },
  {
   "cell_type": "markdown",
   "id": "665c8068",
   "metadata": {},
   "source": [
    "* **Stick**: Player stops\n",
    "* **Hit**: Request an additional card"
   ]
  },
  {
   "cell_type": "code",
   "execution_count": 349,
   "id": "afb2baf1",
   "metadata": {},
   "outputs": [
    {
     "data": {
      "text/plain": [
       "policy"
      ]
     },
     "execution_count": 349,
     "metadata": {},
     "output_type": "execute_result"
    }
   ],
   "source": [
    "\"\"\"\n",
    "Given a pair of cards, check whether any\n",
    "of the cards has an ace and its usable. If it's\n",
    "usable, we turn its value into an 11\n",
    "\"\"\"\n",
    "function turn_usable_ace(card1, card2)\n",
    "    has_usable_ace = false\n",
    "    if card1 == 1 && 11 + card2 <= 21\n",
    "        card1 = 11\n",
    "        has_usable_ace = true\n",
    "    elseif card2 == 1 && card1 + 11 <= 21\n",
    "        card2 = 11\n",
    "        has_usable_ace = true\n",
    "    end\n",
    "    \n",
    "    return (card1, card2), has_usable_ace\n",
    "end\n",
    "\n",
    "\n",
    "\"\"\"\n",
    "**Fixed strategy**  \n",
    "The dealer sticks on any sum of 17 or greater, and hits otherwise.\n",
    "\"\"\"\n",
    "function dealer_strategy(value_cards)\n",
    "    while value_cards < 17\n",
    "        value_cards = value_cards + sample(deck)\n",
    "    end\n",
    "    \n",
    "    return value_cards\n",
    "end\n",
    "\n",
    "\n",
    "\"\"\"\n",
    "A player makes a decision based on his initial cards\n",
    "and one card from the dealer (the one he can see).\n",
    "\"\"\"\n",
    "function player_strategy(value_cards, dealer_one_card, policy)    \n",
    "    \n",
    "    value_cards = policy(value_cards, dealer_one_card)\n",
    "    \n",
    "    return value_cards\n",
    "end\n",
    "\n",
    "\n",
    "\"\"\"\n",
    "Policy in which a player sticks only if his sum\n",
    "is 20 or 21.\n",
    "\"\"\"\n",
    "function policy(value_cards, dealer_one_card)\n",
    "    while value_cards < 20\n",
    "        value_cards = value_cards + sample(deck)\n",
    "    end\n",
    "    return value_cards\n",
    "end"
   ]
  },
  {
   "cell_type": "code",
   "execution_count": 418,
   "id": "519cf8bf",
   "metadata": {},
   "outputs": [
    {
     "data": {
      "text/plain": [
       "blackjack (generic function with 1 method)"
      ]
     },
     "execution_count": 418,
     "metadata": {},
     "output_type": "execute_result"
    }
   ],
   "source": [
    "function blackjack(player_value_cards, dealer_cards)\n",
    "    reward = 0\n",
    "    \n",
    "    # is the dealer allowed to use a 'usable' ace?\n",
    "    # dealer_value_cards = sum(turn_usable_ace(dealer_cards...)[1])\n",
    "    dealer_value_cards = sum(dealer_cards)\n",
    "    \n",
    "    \n",
    "    if player_value_cards == 21 && dealer_value_cards != 21\n",
    "        reward = 1\n",
    "        return reward\n",
    "    end\n",
    "    \n",
    "    \n",
    "    player_value_cards = player_strategy(player_value_cards, dealer_cards[1], policy)\n",
    "    \n",
    "    if player_value_cards > 21\n",
    "        reward = -1\n",
    "    else\n",
    "        dealer_value_cards = dealer_strategy(dealer_value_cards)\n",
    "        if dealer_value_cards > 21\n",
    "            reward = 1\n",
    "        else\n",
    "            reward = player_value_cards > dealer_value_cards ? 1 : 0\n",
    "        end\n",
    "    end\n",
    "    \n",
    "    return reward, (player_value_cards, dealer_value_cards)\n",
    "end"
   ]
  },
  {
   "cell_type": "code",
   "execution_count": 419,
   "id": "e95be476",
   "metadata": {},
   "outputs": [
    {
     "data": {
      "text/plain": [
       "13"
      ]
     },
     "execution_count": 419,
     "metadata": {},
     "output_type": "execute_result"
    }
   ],
   "source": [
    "dealer = sample(deck, 2)\n",
    "player = sample(deck, 2)\n",
    "\n",
    "player, has_usable_ace = turn_usable_ace(player...)\n",
    "player_value_cards = max(12, sum(player))"
   ]
  },
  {
   "cell_type": "code",
   "execution_count": 428,
   "id": "b2552933",
   "metadata": {},
   "outputs": [
    {
     "data": {
      "text/plain": [
       "(-1, (25, 13))"
      ]
     },
     "execution_count": 428,
     "metadata": {},
     "output_type": "execute_result"
    }
   ],
   "source": [
    "blackjack(player_value_cards, dealer)"
   ]
  },
  {
   "cell_type": "code",
   "execution_count": 453,
   "id": "de877e6d",
   "metadata": {},
   "outputs": [
    {
     "name": "stdout",
     "output_type": "stream",
     "text": [
      "2 2 2\n",
      "2 3 7\n",
      "1 10 2\n",
      "1 8 5\n",
      "1 1 7\n",
      "1 10 1\n"
     ]
    },
    {
     "ename": "LoadError",
     "evalue": "BoundsError: attempt to access Int64 at index [2]",
     "output_type": "error",
     "traceback": [
      "BoundsError: attempt to access Int64 at index [2]",
      "",
      "Stacktrace:",
      " [1] indexed_iterate(I::Int64, i::Int64, state::Nothing)",
      "   @ Base ./tuple.jl:98",
      " [2] top-level scope",
      "   @ ./In[453]:14",
      " [3] eval",
      "   @ ./boot.jl:373 [inlined]",
      " [4] include_string(mapexpr::typeof(REPL.softscope), mod::Module, code::String, filename::String)",
      "   @ Base ./loading.jl:1196"
     ]
    }
   ],
   "source": [
    "value_matrix = zeros(2, 11, 11)\n",
    "count_matrix = zeros(2, 11, 11)\n",
    "\n",
    "for _ in 1:100\n",
    "    dealer = sample(deck, 2)\n",
    "    player = sample(deck, 2)\n",
    "    \n",
    "    dealer_shown_card = dealer[1]\n",
    "\n",
    "    player, has_usable_ace = turn_usable_ace(player...)\n",
    "    has_usable_ace = has_usable_ace * 1 + 1\n",
    "    player_value_cards = max(12, sum(player))\n",
    "        \n",
    "    reward, final_cards = blackjack(player_value_cards, dealer)\n",
    "    \n",
    "    println(has_usable_ace, \" \", dealer_shown_card, \" \", player_value_cards - 11)\n",
    "    value_matrix[has_usable_ace, dealer_shown_card, player_value_cards - 11] += reward * 1.0\n",
    "end"
   ]
  },
  {
   "cell_type": "code",
   "execution_count": 444,
   "id": "7743184f",
   "metadata": {},
   "outputs": [
    {
     "data": {
      "text/plain": [
       "11×11 Matrix{Float64}:\n",
       " 0.0  0.0  0.0   0.0  0.0  0.0  0.0  0.0  0.0  0.0  0.0\n",
       " 0.0  0.0  0.0   0.0  0.0  0.0  0.0  0.0  0.0  0.0  0.0\n",
       " 0.0  0.0  0.0   0.0  0.0  0.0  0.0  0.0  0.0  0.0  0.0\n",
       " 0.0  0.0  0.0   0.0  0.0  0.0  0.0  0.0  0.0  0.0  0.0\n",
       " 0.0  0.0  0.0  -1.0  0.0  0.0  0.0  0.0  0.0  0.0  0.0\n",
       " 0.0  0.0  0.0   0.0  0.0  0.0  0.0  0.0  0.0  0.0  0.0\n",
       " 0.0  0.0  0.0   0.0  0.0  0.0  0.0  0.0  0.0  0.0  0.0\n",
       " 0.0  0.0  0.0   0.0  0.0  0.0  0.0  0.0  0.0  0.0  0.0\n",
       " 0.0  0.0  0.0   0.0  0.0  0.0  0.0  0.0  0.0  0.0  0.0\n",
       " 0.0  0.0  0.0   0.0  0.0  0.0  0.0  0.0  0.0  0.0  0.0\n",
       " 0.0  0.0  0.0   0.0  0.0  0.0  0.0  0.0  0.0  0.0  0.0"
      ]
     },
     "execution_count": 444,
     "metadata": {},
     "output_type": "execute_result"
    }
   ],
   "source": [
    "value_matrix[2, :, :]"
   ]
  },
  {
   "cell_type": "code",
   "execution_count": 433,
   "id": "153a246d",
   "metadata": {},
   "outputs": [
    {
     "data": {
      "text/plain": [
       "0.0"
      ]
     },
     "execution_count": 433,
     "metadata": {},
     "output_type": "execute_result"
    }
   ],
   "source": [
    "value_matrix[1, 2, 2]"
   ]
  }
 ],
 "metadata": {
  "kernelspec": {
   "display_name": "Julia (threads) 1.7.1",
   "language": "julia",
   "name": "julia-(threads)-1.7"
  },
  "language_info": {
   "file_extension": ".jl",
   "mimetype": "application/julia",
   "name": "julia",
   "version": "1.7.1"
  }
 },
 "nbformat": 4,
 "nbformat_minor": 5
}
