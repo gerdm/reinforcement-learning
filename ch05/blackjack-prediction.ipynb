{
 "cells": [
  {
   "cell_type": "markdown",
   "id": "ab394903-07c2-4325-9189-80070f0f3350",
   "metadata": {},
   "source": [
    "# Blackjack - prediction\n",
    "\n",
    "In this notebook, we are interested in *learning* the value-function $v_\\pi(s)$ and action-value function $q_\\pi(s, a)$ for a given policy $\\pi$"
   ]
  },
  {
   "cell_type": "code",
   "execution_count": 1,
   "id": "f4aba54f-3781-4c78-b9ad-01df7f964d2d",
   "metadata": {
    "tags": []
   },
   "outputs": [],
   "source": [
    "import numpy as np\n",
    "import pandas as pd\n",
    "import seaborn as sns\n",
    "import matplotlib.pyplot as plt\n",
    "\n",
    "from numba import njit\n",
    "from numba.core import types\n",
    "from numba.typed import Dict"
   ]
  },
  {
   "cell_type": "code",
   "execution_count": 2,
   "id": "debf50e8",
   "metadata": {
    "tags": []
   },
   "outputs": [],
   "source": [
    "%config InlineBackend.figure_format = \"retina\"\n",
    "np.set_printoptions(suppress=True)"
   ]
  },
  {
   "cell_type": "markdown",
   "id": "71627d2e",
   "metadata": {},
   "source": [
    "* **Stick**: Player stops\n",
    "* **Hit**: Request an additional card"
   ]
  },
  {
   "cell_type": "code",
   "execution_count": 3,
   "id": "55cd67c4-eed9-499c-a06c-2fd6aa4a51c0",
   "metadata": {
    "tags": []
   },
   "outputs": [],
   "source": [
    "# Value 10 corresponds to 10, Jack, Queen, and King.\n",
    "n_vals = np.ones(10)\n",
    "n_vals[-1] = 4\n",
    "deck_probs = n_vals / n_vals.sum()"
   ]
  },
  {
   "cell_type": "code",
   "execution_count": 17,
   "id": "d4aa9577-fe04-4bff-af8c-69376248330a",
   "metadata": {
    "tags": []
   },
   "outputs": [
    {
     "data": {
      "text/plain": [
       "19"
      ]
     },
     "execution_count": 17,
     "metadata": {},
     "output_type": "execute_result"
    }
   ],
   "source": [
    "value = 21\n",
    "value - PLAY_MINVAL"
   ]
  },
  {
   "cell_type": "code",
   "execution_count": 18,
   "id": "0bd9bf3e-9771-444c-80da-9f96725efea9",
   "metadata": {
    "tags": []
   },
   "outputs": [],
   "source": [
    "CARD_MIN = 1\n",
    "CARD_MAX = 10"
   ]
  },
  {
   "cell_type": "code",
   "execution_count": 359,
   "id": "653ecbe3-4b06-4c46-a23e-b0a8d3c4c90a",
   "metadata": {
    "tags": []
   },
   "outputs": [],
   "source": [
    "@njit\n",
    "def set_seed(value):\n",
    "    \"\"\"\n",
    "    See: https://github.com/numba/numba/issues/6002\n",
    "    \"\"\"\n",
    "    np.random.seed(value)\n",
    "    \n",
    "\n",
    "@njit\n",
    "def draw_card():\n",
    "    return np.random.multinomial(1, deck_probs).argmax() + 1\n",
    "\n",
    "\n",
    "@njit\n",
    "def compute_reward(value_cards_player, value_cards_dealer):\n",
    "    if value_cards_player == value_cards_dealer == 21:\n",
    "        reward = 0 # draw\n",
    "    elif value_cards_player > 21:\n",
    "        reward = -1 # lose\n",
    "    elif value_cards_dealer > 21:\n",
    "        reward = 1 # win\n",
    "    elif value_cards_player == value_cards_dealer:\n",
    "        reward = 0 # draw\n",
    "    elif value_cards_player > value_cards_dealer:\n",
    "        reward = 1 # win\n",
    "    else:\n",
    "        reward = -1 # lose\n",
    "    \n",
    "    return reward\n",
    "\n",
    "\n",
    "@njit\n",
    "def init_game():\n",
    "    value_cards_player = np.array([draw_card(), draw_card()])\n",
    "    has_usable_ace = 1 in value_cards_player\n",
    "    value_cards_player = value_cards_player.sum() + 10 * has_usable_ace\n",
    "    \n",
    "    dealers_card = draw_card() # Dealer's one-showing card\n",
    "    \n",
    "    return value_cards_player, has_usable_ace, dealers_card\n",
    "\n",
    "\n",
    "@njit\n",
    "def update_hand(value_cards):\n",
    "    \"\"\"\n",
    "    Update the value of the hand for either the player\n",
    "    or the dealer\n",
    "    \"\"\"\n",
    "    new_card = draw_card()\n",
    "    value_cards = value_cards + new_card\n",
    "    \n",
    "    if (new_card == 1) and (value_cards <= 10):\n",
    "        has_usable_ace = True\n",
    "        value_cards = value_cards + 10 # Make use of the ace\n",
    "        \n",
    "    return value_cards, has_usable_ace\n",
    "\n",
    "\n",
    "@njit\n",
    "def state_to_ix(value_cards_player, has_usable_ace, dealers_card):\n",
    "    ix_value_cards = value_cards_player - PLAY_MINVAL\n",
    "    ix_has_usable_ace = int(has_usable_ace)\n",
    "    ix_dealers_card = dealers_card - CARD_MIN\n",
    "    \n",
    "    ixs = ix_value_cards, ix_has_usable_ace, ix_dealers_card\n",
    "    return ixs\n",
    "\n",
    "\n",
    "@njit\n",
    "def step_player(\n",
    "    value_cards_player,\n",
    "    has_usable_ace,\n",
    "    dealers_card,\n",
    "    policy\n",
    "):\n",
    "    continue_play = True\n",
    "    # turn into indices\n",
    "    ixs = state_to_ix(value_cards_player, has_usable_ace, dealers_card)\n",
    "    ix_value_cards, ix_has_usable_ace, ix_dealers_card = ixs\n",
    "    action = policy[ix_value_cards, ix_has_usable_ace, ix_dealers_card]\n",
    "    \n",
    "    if action == 1:\n",
    "        value_cards_player, has_usable_ace_new = update_hand(value_cards_player)\n",
    "        has_usable_ace = has_usable_ace or has_usable_ace_new\n",
    "        \n",
    "    if (value_cards_player >= 21) or (action == 0):\n",
    "        continue_play = False\n",
    "    \n",
    "    return value_cards_player, has_usable_ace, action, continue_play\n",
    "\n",
    "\n",
    "@njit\n",
    "def dealer_strategy(dealers_card):\n",
    "    \"\"\"\n",
    "    The dealer hits or sticks according to a fixed strategy:\n",
    "    Stick on any sum of 17 or greater and hit otherwise\n",
    "    \"\"\"\n",
    "    value_cards_dealer = dealers_card + 10 * (dealers_card == 1)\n",
    "    while value_cards_dealer < 17:\n",
    "        value_cards_dealer, _ = update_hand(value_cards_dealer)\n",
    "        \n",
    "    return value_cards_dealer\n",
    "\n",
    "    \n",
    "@njit\n",
    "def play_single(value_cards_player, has_usable_ace, dealers_card, policy):\n",
    "    reward = 0\n",
    "    \n",
    "    continue_play = True\n",
    "    while continue_play:\n",
    "        value_cards_player, has_usable_ace, action, continue_play = step_player(\n",
    "            value_cards_player, has_usable_ace, dealers_card, policy\n",
    "        )\n",
    "    \n",
    "    value_cards_dealer = dealer_strategy(dealers_card)\n",
    "    \n",
    "    reward = compute_reward(value_cards_player, value_cards_dealer)\n",
    "    return reward, (value_cards_player, value_cards_dealer)\n",
    "\n",
    "\n",
    "@njit\n",
    "def play_single_hist(value_cards_player, has_usable_ace, dealers_card, policy):\n",
    "    \"\"\"\n",
    "    Play game and store intermediate steps\n",
    "    \"\"\"\n",
    "    reward = 0\n",
    "    \n",
    "    states = [[value_cards_player, has_usable_ace, dealers_card]]\n",
    "    rewards = []\n",
    "    actions = []\n",
    "    \n",
    "    continue_play = True\n",
    "    while continue_play:\n",
    "        value_cards_player, has_usable_ace, action, continue_play = step_player(\n",
    "            value_cards_player, has_usable_ace, dealers_card, policy\n",
    "        )\n",
    "        \n",
    "        rewards.append(0)\n",
    "        actions.append(action)\n",
    "        states.append([value_cards_player, has_usable_ace, dealers_card])\n",
    "    \n",
    "    value_cards_dealer = dealer_strategy(dealers_card)\n",
    "    \n",
    "    reward = compute_reward(value_cards_player, value_cards_dealer)\n",
    "    rewards.append(reward)\n",
    "    \n",
    "    hist = (\n",
    "        states,\n",
    "        actions,\n",
    "        rewards\n",
    "    )\n",
    "    \n",
    "    return reward, (value_cards_player, value_cards_dealer), hist"
   ]
  },
  {
   "cell_type": "code",
   "execution_count": 360,
   "id": "c7a6d490-59c1-443c-900f-d9b09a903d13",
   "metadata": {
    "tags": []
   },
   "outputs": [
    {
     "data": {
      "image/png": "[encoded data removed]",
      "text/plain": [
       "<Figure size 640x480 with 1 Axes>"
      ]
     },
     "metadata": {
      "image/png": {
       "height": 432,
       "width": 559
      }
     },
     "output_type": "display_data"
    }
   ],
   "source": [
    "value_cards = np.arange(2, 22)\n",
    "\n",
    "rewards_grid = np.array([[compute_reward(p, d) for d in value_cards] for p in value_cards])\n",
    "rewards_grid = pd.DataFrame(rewards_grid, index=value_cards, columns=value_cards)\n",
    "ax = sns.heatmap(rewards_grid, cmap=\"Spectral\", annot=True, cbar=False)\n",
    "ax.invert_yaxis()\n",
    "plt.ylabel(\"Player's value\")\n",
    "plt.xlabel(\"Dealer's value\");"
   ]
  },
  {
   "cell_type": "markdown",
   "id": "1a66a14d-e2b0-4bed-b2d2-0920c77c26b2",
   "metadata": {},
   "source": [
    "The player makes a decision on the basis of three variables:\n",
    "1. his current sum (12-21),\n",
    "2. the dealer's one showing card (ace-10), and\n",
    "3. whether or not he holds a usable ace"
   ]
  },
  {
   "cell_type": "code",
   "execution_count": 361,
   "id": "0f18d422-22fe-4664-bf8c-16ed75792ede",
   "metadata": {
    "tags": []
   },
   "outputs": [
    {
     "data": {
      "text/plain": [
       "200"
      ]
     },
     "execution_count": 361,
     "metadata": {},
     "output_type": "execute_result"
    }
   ],
   "source": [
    "# Number of states\n",
    "(21 - 12 + 1) * (10 - 1 + 1) * 2"
   ]
  },
  {
   "cell_type": "code",
   "execution_count": 362,
   "id": "a22e443f-6072-4ad2-9da3-8520965f595b",
   "metadata": {
    "tags": []
   },
   "outputs": [
    {
     "data": {
      "text/plain": [
       "(20, 2, 20)"
      ]
     },
     "execution_count": 362,
     "metadata": {},
     "output_type": "execute_result"
    }
   ],
   "source": [
    "PLAY_MINVAL = 2\n",
    "PLAY_MAXVAL = 21\n",
    "\n",
    "# We consider the policy that sticks if the player's sum is 20 or 21\n",
    "# and sticks otherwise\n",
    "policy = np.zeros((\n",
    "    PLAY_MAXVAL - PLAY_MINVAL + 1, # Player's value\n",
    "    2, # has usable ace\n",
    "    PLAY_MAXVAL - PLAY_MINVAL + 1 # Dealer's value\n",
    "), dtype=np.int32)\n",
    "policy[:-2] = 1\n",
    "\n",
    "policy.shape"
   ]
  },
  {
   "cell_type": "code",
   "execution_count": 363,
   "id": "e4fc84ce-ce8c-4fa1-a2b9-6f1a87654700",
   "metadata": {
    "tags": []
   },
   "outputs": [
    {
     "data": {
      "text/plain": [
       "(1, (20, 18))"
      ]
     },
     "execution_count": 363,
     "metadata": {},
     "output_type": "execute_result"
    }
   ],
   "source": [
    "state_init = (20, 1, 10)\n",
    "play_single(*state_init, policy=policy)"
   ]
  },
  {
   "cell_type": "code",
   "execution_count": 364,
   "id": "36ac9591-203c-4773-a12d-f937ec92a97b",
   "metadata": {
    "tags": []
   },
   "outputs": [
    {
     "data": {
      "text/plain": [
       "(13, False, 5)"
      ]
     },
     "execution_count": 364,
     "metadata": {},
     "output_type": "execute_result"
    }
   ],
   "source": [
    "state_init = init_game()\n",
    "state_init"
   ]
  },
  {
   "cell_type": "markdown",
   "id": "5c9ead18-f55c-4b4b-9704-bba5b32e5bec",
   "metadata": {},
   "source": [
    "### Analysing play-by-play"
   ]
  },
  {
   "cell_type": "code",
   "execution_count": 365,
   "id": "0cdcd118-01ce-4b0a-996f-4880801baf52",
   "metadata": {
    "tags": []
   },
   "outputs": [],
   "source": [
    "set_seed(31415)\n",
    "state_init = (4, 0, 5)\n",
    "reward, values, hist = play_single_hist(*state_init, policy=policy)"
   ]
  },
  {
   "cell_type": "code",
   "execution_count": 366,
   "id": "426b0a72-74c3-4239-bff0-baab56fd195d",
   "metadata": {
    "tags": []
   },
   "outputs": [
    {
     "data": {
      "text/plain": [
       "[[4, 0, 5], [7, 0, 5], [15, 0, 5]]"
      ]
     },
     "execution_count": 366,
     "metadata": {},
     "output_type": "execute_result"
    }
   ],
   "source": [
    "# states\n",
    "hist[0][:-1]"
   ]
  },
  {
   "cell_type": "code",
   "execution_count": 367,
   "id": "e0a4de44-fd66-4a24-af89-f62614974488",
   "metadata": {
    "tags": []
   },
   "outputs": [
    {
     "data": {
      "text/plain": [
       "[1, 1, 1]"
      ]
     },
     "execution_count": 367,
     "metadata": {},
     "output_type": "execute_result"
    }
   ],
   "source": [
    "# actions\n",
    "hist[1]"
   ]
  },
  {
   "cell_type": "code",
   "execution_count": 368,
   "id": "963dc57f-60fa-43fd-aabb-4bc40364af24",
   "metadata": {
    "tags": []
   },
   "outputs": [
    {
     "data": {
      "text/plain": [
       "[0, 0, -1]"
      ]
     },
     "execution_count": 368,
     "metadata": {},
     "output_type": "execute_result"
    }
   ],
   "source": [
    "# rewards\n",
    "hist[2][1:]"
   ]
  },
  {
   "cell_type": "code",
   "execution_count": 369,
   "id": "c2e83f9a-09b4-466c-b7d3-b3aa6d30ef53",
   "metadata": {},
   "outputs": [
    {
     "data": {
      "text/plain": [
       "(25, 19)"
      ]
     },
     "execution_count": 369,
     "metadata": {},
     "output_type": "execute_result"
    }
   ],
   "source": [
    "values"
   ]
  },
  {
   "cell_type": "markdown",
   "id": "74e2a89c-5398-4e86-9ef0-31b236fd95ab",
   "metadata": {},
   "source": [
    "$$\n",
    "    S_0, A_0, R_1, S_1, A_1, R_2, \\ldots, S_{T-1}, A_{T-1}, R_T\n",
    "$$"
   ]
  },
  {
   "cell_type": "markdown",
   "id": "88101b05-d1ad-4c1a-b10c-3c212488b49b",
   "metadata": {},
   "source": [
    "## Estimating the value function via first-visit MC"
   ]
  },
  {
   "cell_type": "code",
   "execution_count": 506,
   "id": "d3d3589e-fd34-454f-b86a-44cb62a343c6",
   "metadata": {
    "tags": []
   },
   "outputs": [],
   "source": [
    "set_seed(31415)\n",
    "state_init = init_game()\n",
    "reward, values, hist = play_single_hist(*state_init, policy=policy)\n",
    "discount = 1"
   ]
  },
  {
   "cell_type": "code",
   "execution_count": 507,
   "id": "c8d3a838-1451-41aa-84e8-15873451c0da",
   "metadata": {
    "tags": []
   },
   "outputs": [],
   "source": [
    "hist_state, hist_action, hist_reward = hist"
   ]
  },
  {
   "cell_type": "code",
   "execution_count": 508,
   "id": "dbed0258-a157-40c2-bbc1-8163e575fa7e",
   "metadata": {
    "tags": []
   },
   "outputs": [
    {
     "data": {
      "text/plain": [
       "[[11, 0, 10], [12, 1, 10], [15, 1, 10], [25, 1, 10]]"
      ]
     },
     "execution_count": 508,
     "metadata": {},
     "output_type": "execute_result"
    }
   ],
   "source": [
    "hist_state"
   ]
  },
  {
   "cell_type": "code",
   "execution_count": 544,
   "id": "3734fccf-32be-491a-96c4-88f495ea2e46",
   "metadata": {
    "tags": []
   },
   "outputs": [],
   "source": [
    "grid_rewards = np.zeros_like(policy)\n",
    "grid_count = np.zeros_like(policy)"
   ]
  },
  {
   "cell_type": "code",
   "execution_count": 547,
   "id": "0cb70657-1c52-40d3-ba12-8e01e7610e55",
   "metadata": {
    "tags": []
   },
   "outputs": [],
   "source": [
    "@njit\n",
    "def single_first_visit_mc(grid_rewards, grid_count, policy):\n",
    "    grid_rewards = grid_rewards.copy()\n",
    "    grid_count = grid_count.copy()\n",
    "    \n",
    "    player_cards, ace, dealer_card = init_game()\n",
    "    reward, values, hist = play_single_hist(player_cards, ace, dealer_card, policy=policy)\n",
    "    hist_state, hist_action, hist_reward = hist\n",
    "    T = len(hist_state)\n",
    "\n",
    "    sim_reward = 0\n",
    "    for t in range(-2, -(T + 1), -1):\n",
    "        r = hist_reward[t + 1]\n",
    "        sim_reward = discount * sim_reward + r\n",
    "\n",
    "        current_state = hist_state[t]\n",
    "        previous_states = hist_state[:t]\n",
    "\n",
    "        first_visit = current_state not in previous_states\n",
    "        if first_visit:    \n",
    "            value_cards_player, has_usable_ace, dealers_card = current_state\n",
    "            ixs = state_to_ix(value_cards_player, has_usable_ace, dealers_card)\n",
    "            ix_value_cards, ix_has_usable_ace, ix_dealers_card = ixs\n",
    "\n",
    "            grid_rewards[ix_value_cards, ix_has_usable_ace, ix_dealers_card] = sim_reward\n",
    "            grid_count[ix_value_cards, ix_has_usable_ace, ix_dealers_card] += 1\n",
    "    \n",
    "    return grid_rewards, grid_count"
   ]
  },
  {
   "cell_type": "code",
   "execution_count": 548,
   "id": "62d1c565-7a48-45ac-8653-0390eb133272",
   "metadata": {},
   "outputs": [
    {
     "data": {
      "text/plain": [
       "(array([[[ 0,  0,  0,  0,  0,  0,  0,  0,  0,  0,  0,  0,  0,  0,  0,  0,\n",
       "           0,  0,  0,  0],\n",
       "         [ 0,  0,  0,  0,  0,  0,  0,  0,  0,  0,  0,  0,  0,  0,  0,  0,\n",
       "           0,  0,  0,  0]],\n",
       " \n",
       "        [[ 0,  0,  0,  0,  0,  0,  0,  0,  0,  0,  0,  0,  0,  0,  0,  0,\n",
       "           0,  0,  0,  0],\n",
       "         [ 0,  0,  0,  0,  0,  0,  0,  0,  0,  0,  0,  0,  0,  0,  0,  0,\n",
       "           0,  0,  0,  0]],\n",
       " \n",
       "        [[ 0,  0,  0,  0,  0,  0,  0,  0,  0,  0,  0,  0,  0,  0,  0,  0,\n",
       "           0,  0,  0,  0],\n",
       "         [ 0,  0,  0,  0,  0,  0,  0,  0,  0,  0,  0,  0,  0,  0,  0,  0,\n",
       "           0,  0,  0,  0]],\n",
       " \n",
       "        [[ 0,  0,  0,  0,  0,  0,  0,  0,  0,  0,  0,  0,  0,  0,  0,  0,\n",
       "           0,  0,  0,  0],\n",
       "         [ 0,  0,  0,  0,  0,  0,  0,  0,  0,  0,  0,  0,  0,  0,  0,  0,\n",
       "           0,  0,  0,  0]],\n",
       " \n",
       "        [[ 0,  0,  0,  0,  0,  0,  0,  0,  0,  0,  0,  0,  0,  0,  0,  0,\n",
       "           0,  0,  0,  0],\n",
       "         [ 0,  0,  0,  0,  0,  0,  0,  0,  0,  0,  0,  0,  0,  0,  0,  0,\n",
       "           0,  0,  0,  0]],\n",
       " \n",
       "        [[ 0,  0,  0,  0,  0,  0,  0,  0,  0,  0,  0,  0,  0,  0,  0,  0,\n",
       "           0,  0,  0,  0],\n",
       "         [ 0,  0,  0,  0,  0,  0,  0,  0,  0,  0,  0,  0,  0,  0,  0,  0,\n",
       "           0,  0,  0,  0]],\n",
       " \n",
       "        [[ 0,  0,  0,  0,  0,  0,  0,  0,  0,  0,  0,  0,  0,  0,  0,  0,\n",
       "           0,  0,  0,  0],\n",
       "         [ 0,  0,  0,  0,  0,  0,  0,  0,  0,  0,  0,  0,  0,  0,  0,  0,\n",
       "           0,  0,  0,  0]],\n",
       " \n",
       "        [[ 0,  0,  0,  0,  0,  0,  0,  0,  0,  0,  0,  0,  0,  0,  0,  0,\n",
       "           0,  0,  0,  0],\n",
       "         [ 0,  0,  0,  0,  0,  0,  0,  0,  0,  0,  0,  0,  0,  0,  0,  0,\n",
       "           0,  0,  0,  0]],\n",
       " \n",
       "        [[ 0,  0,  0,  0,  0,  0,  0,  0,  0,  0,  0,  0,  0,  0,  0,  0,\n",
       "           0,  0,  0,  0],\n",
       "         [ 0,  0,  0,  0,  0,  0,  0,  0,  0,  0,  0,  0,  0,  0,  0,  0,\n",
       "           0,  0,  0,  0]],\n",
       " \n",
       "        [[ 0,  0,  0,  0,  0,  0,  0,  0,  0, -1,  0,  0,  0,  0,  0,  0,\n",
       "           0,  0,  0,  0],\n",
       "         [ 0,  0,  0,  0,  0,  0,  0,  0,  0,  0,  0,  0,  0,  0,  0,  0,\n",
       "           0,  0,  0,  0]],\n",
       " \n",
       "        [[ 0,  0,  0,  0,  0,  0,  0,  0,  0,  0,  0,  0,  0,  0,  0,  0,\n",
       "           0,  0,  0,  0],\n",
       "         [ 0,  0,  0,  0,  0,  0,  0,  0,  0, -1,  0,  0,  0,  0,  0,  0,\n",
       "           0,  0,  0,  0]],\n",
       " \n",
       "        [[ 0,  0,  0,  0,  0,  0,  0,  0,  0,  0,  0,  0,  0,  0,  0,  0,\n",
       "           0,  0,  0,  0],\n",
       "         [ 0,  0,  0,  0,  0,  0,  0,  0,  0,  0,  0,  0,  0,  0,  0,  0,\n",
       "           0,  0,  0,  0]],\n",
       " \n",
       "        [[ 0,  0,  0,  0,  0,  0,  0,  0,  0,  0,  0,  0,  0,  0,  0,  0,\n",
       "           0,  0,  0,  0],\n",
       "         [ 0,  0,  0,  0,  0,  0,  0,  0,  0,  0,  0,  0,  0,  0,  0,  0,\n",
       "           0,  0,  0,  0]],\n",
       " \n",
       "        [[ 0,  0,  0,  0,  0,  0,  0,  0,  0,  0,  0,  0,  0,  0,  0,  0,\n",
       "           0,  0,  0,  0],\n",
       "         [ 0,  0,  0,  0,  0,  0,  0,  0,  0, -1,  0,  0,  0,  0,  0,  0,\n",
       "           0,  0,  0,  0]],\n",
       " \n",
       "        [[ 0,  0,  0,  0,  0,  0,  0,  0,  0,  0,  0,  0,  0,  0,  0,  0,\n",
       "           0,  0,  0,  0],\n",
       "         [ 0,  0,  0,  0,  0,  0,  0,  0,  0,  0,  0,  0,  0,  0,  0,  0,\n",
       "           0,  0,  0,  0]],\n",
       " \n",
       "        [[ 0,  0,  0,  0,  0,  0,  0,  0,  0,  0,  0,  0,  0,  0,  0,  0,\n",
       "           0,  0,  0,  0],\n",
       "         [ 0,  0,  0,  0,  0,  0,  0,  0,  0,  0,  0,  0,  0,  0,  0,  0,\n",
       "           0,  0,  0,  0]],\n",
       " \n",
       "        [[ 0,  0,  0,  0,  0,  0,  0,  0,  0,  0,  0,  0,  0,  0,  0,  0,\n",
       "           0,  0,  0,  0],\n",
       "         [ 0,  0,  0,  0,  0,  0,  0,  0,  0,  0,  0,  0,  0,  0,  0,  0,\n",
       "           0,  0,  0,  0]],\n",
       " \n",
       "        [[ 0,  0,  0,  0,  0,  0,  0,  0,  0,  0,  0,  0,  0,  0,  0,  0,\n",
       "           0,  0,  0,  0],\n",
       "         [ 0,  0,  0,  0,  0,  0,  0,  0,  0,  0,  0,  0,  0,  0,  0,  0,\n",
       "           0,  0,  0,  0]],\n",
       " \n",
       "        [[ 0,  0,  1,  0,  0,  0,  0,  0,  0,  0,  0,  0,  0,  0,  0,  0,\n",
       "           0,  0,  0,  0],\n",
       "         [ 0,  0,  0,  0,  0,  0,  0,  0,  0,  0,  0,  0,  0,  0,  0,  0,\n",
       "           0,  0,  0,  0]],\n",
       " \n",
       "        [[ 0,  0,  0,  0,  0,  0,  0,  0,  0,  0,  0,  0,  0,  0,  0,  0,\n",
       "           0,  0,  0,  0],\n",
       "         [ 0,  0,  0,  0,  0,  0,  0,  0,  0,  0,  0,  0,  0,  0,  0,  0,\n",
       "           0,  0,  0,  0]]], dtype=int32),\n",
       " array([[[0, 0, 0, 0, 0, 0, 0, 0, 0, 0, 0, 0, 0, 0, 0, 0, 0, 0, 0, 0],\n",
       "         [0, 0, 0, 0, 0, 0, 0, 0, 0, 0, 0, 0, 0, 0, 0, 0, 0, 0, 0, 0]],\n",
       " \n",
       "        [[0, 0, 0, 0, 0, 0, 0, 0, 0, 0, 0, 0, 0, 0, 0, 0, 0, 0, 0, 0],\n",
       "         [0, 0, 0, 0, 0, 0, 0, 0, 0, 0, 0, 0, 0, 0, 0, 0, 0, 0, 0, 0]],\n",
       " \n",
       "        [[0, 0, 0, 0, 0, 0, 0, 0, 0, 0, 0, 0, 0, 0, 0, 0, 0, 0, 0, 0],\n",
       "         [0, 0, 0, 0, 0, 0, 0, 0, 0, 0, 0, 0, 0, 0, 0, 0, 0, 0, 0, 0]],\n",
       " \n",
       "        [[0, 0, 0, 0, 0, 0, 0, 0, 0, 0, 0, 0, 0, 0, 0, 0, 0, 0, 0, 0],\n",
       "         [0, 0, 0, 0, 0, 0, 0, 0, 0, 0, 0, 0, 0, 0, 0, 0, 0, 0, 0, 0]],\n",
       " \n",
       "        [[0, 0, 0, 0, 0, 0, 0, 0, 0, 0, 0, 0, 0, 0, 0, 0, 0, 0, 0, 0],\n",
       "         [0, 0, 0, 0, 0, 0, 0, 0, 0, 0, 0, 0, 0, 0, 0, 0, 0, 0, 0, 0]],\n",
       " \n",
       "        [[0, 0, 0, 0, 0, 0, 0, 0, 0, 0, 0, 0, 0, 0, 0, 0, 0, 0, 0, 0],\n",
       "         [0, 0, 0, 0, 0, 0, 0, 0, 0, 0, 0, 0, 0, 0, 0, 0, 0, 0, 0, 0]],\n",
       " \n",
       "        [[0, 0, 0, 0, 0, 0, 0, 0, 0, 0, 0, 0, 0, 0, 0, 0, 0, 0, 0, 0],\n",
       "         [0, 0, 0, 0, 0, 0, 0, 0, 0, 0, 0, 0, 0, 0, 0, 0, 0, 0, 0, 0]],\n",
       " \n",
       "        [[0, 0, 0, 0, 0, 0, 0, 0, 0, 0, 0, 0, 0, 0, 0, 0, 0, 0, 0, 0],\n",
       "         [0, 0, 0, 0, 0, 0, 0, 0, 0, 0, 0, 0, 0, 0, 0, 0, 0, 0, 0, 0]],\n",
       " \n",
       "        [[0, 0, 0, 0, 0, 0, 0, 0, 0, 0, 0, 0, 0, 0, 0, 0, 0, 0, 0, 0],\n",
       "         [0, 0, 0, 0, 0, 0, 0, 0, 0, 0, 0, 0, 0, 0, 0, 0, 0, 0, 0, 0]],\n",
       " \n",
       "        [[0, 0, 0, 0, 0, 0, 0, 0, 0, 1, 0, 0, 0, 0, 0, 0, 0, 0, 0, 0],\n",
       "         [0, 0, 0, 0, 0, 0, 0, 0, 0, 0, 0, 0, 0, 0, 0, 0, 0, 0, 0, 0]],\n",
       " \n",
       "        [[0, 0, 0, 0, 0, 0, 0, 0, 0, 0, 0, 0, 0, 0, 0, 0, 0, 0, 0, 0],\n",
       "         [0, 0, 0, 0, 0, 0, 0, 0, 0, 1, 0, 0, 0, 0, 0, 0, 0, 0, 0, 0]],\n",
       " \n",
       "        [[0, 0, 0, 0, 0, 0, 0, 0, 0, 0, 0, 0, 0, 0, 0, 0, 0, 0, 0, 0],\n",
       "         [0, 0, 0, 0, 0, 0, 0, 0, 0, 0, 0, 0, 0, 0, 0, 0, 0, 0, 0, 0]],\n",
       " \n",
       "        [[0, 0, 0, 0, 0, 0, 0, 0, 0, 0, 0, 0, 0, 0, 0, 0, 0, 0, 0, 0],\n",
       "         [0, 0, 0, 0, 0, 0, 0, 0, 0, 0, 0, 0, 0, 0, 0, 0, 0, 0, 0, 0]],\n",
       " \n",
       "        [[0, 0, 0, 0, 0, 0, 0, 0, 0, 0, 0, 0, 0, 0, 0, 0, 0, 0, 0, 0],\n",
       "         [0, 0, 0, 0, 0, 0, 0, 0, 0, 1, 0, 0, 0, 0, 0, 0, 0, 0, 0, 0]],\n",
       " \n",
       "        [[0, 0, 0, 0, 0, 0, 0, 0, 0, 0, 0, 0, 0, 0, 0, 0, 0, 0, 0, 0],\n",
       "         [0, 0, 0, 0, 0, 0, 0, 0, 0, 0, 0, 0, 0, 0, 0, 0, 0, 0, 0, 0]],\n",
       " \n",
       "        [[0, 0, 0, 0, 0, 0, 0, 0, 0, 0, 0, 0, 0, 0, 0, 0, 0, 0, 0, 0],\n",
       "         [0, 0, 0, 0, 0, 0, 0, 0, 0, 0, 0, 0, 0, 0, 0, 0, 0, 0, 0, 0]],\n",
       " \n",
       "        [[0, 0, 0, 0, 0, 0, 0, 0, 0, 0, 0, 0, 0, 0, 0, 0, 0, 0, 0, 0],\n",
       "         [0, 0, 0, 0, 0, 0, 0, 0, 0, 0, 0, 0, 0, 0, 0, 0, 0, 0, 0, 0]],\n",
       " \n",
       "        [[0, 0, 0, 0, 0, 0, 0, 0, 0, 0, 0, 0, 0, 0, 0, 0, 0, 0, 0, 0],\n",
       "         [0, 0, 0, 0, 0, 0, 0, 0, 0, 0, 0, 0, 0, 0, 0, 0, 0, 0, 0, 0]],\n",
       " \n",
       "        [[0, 0, 1, 0, 0, 0, 0, 0, 0, 0, 0, 0, 0, 0, 0, 0, 0, 0, 0, 0],\n",
       "         [0, 0, 0, 0, 0, 0, 0, 0, 0, 0, 0, 0, 0, 0, 0, 0, 0, 0, 0, 0]],\n",
       " \n",
       "        [[0, 0, 0, 0, 0, 0, 0, 0, 0, 0, 0, 0, 0, 0, 0, 0, 0, 0, 0, 0],\n",
       "         [0, 0, 0, 0, 0, 0, 0, 0, 0, 0, 0, 0, 0, 0, 0, 0, 0, 0, 0, 0]]],\n",
       "       dtype=int32))"
      ]
     },
     "execution_count": 548,
     "metadata": {},
     "output_type": "execute_result"
    }
   ],
   "source": [
    "single_first_visit_mc(grid_rewards, grid_count, policy)"
   ]
  },
  {
   "cell_type": "markdown",
   "id": "7bfdb45e-c29b-43ec-97bc-0f2e14267dca",
   "metadata": {},
   "source": [
    "## Old stuff"
   ]
  },
  {
   "cell_type": "code",
   "execution_count": 4,
   "id": "35e5f227-a526-4d52-b4a6-9c4c501fa6a0",
   "metadata": {
    "tags": []
   },
   "outputs": [],
   "source": [
    "@njit\n",
    "def update_player_card(current_value, new_card):\n",
    "    \"\"\"\n",
    "    Update the player's hand value.\n",
    "    \n",
    "    Parameters\n",
    "    ----------\n",
    "    current_value: int\n",
    "        Current value of player's hand\n",
    "    new_card: int\n",
    "        Randomly-drawn card\n",
    "    \n",
    "    Returns\n",
    "    -------\n",
    "    tuple: (int, bool)\n",
    "        1. New value of player's hand\n",
    "        2. Whether the there is a usable ace.\n",
    "    \"\"\"\n",
    "    has_usable_ace = False\n",
    "    if new_card == 1.0 and current_value <= 10:\n",
    "        new_card = 11\n",
    "        has_usable_ace = True\n",
    "        \n",
    "    new_value = current_value + new_card\n",
    "    return new_value, has_usable_ace\n",
    "\n",
    "\n",
    "\n",
    "\n",
    "@njit\n",
    "def blackjack(player_value_cards, dealer_cards, policy, has_usable_ace):\n",
    "    \"\"\"\n",
    "    Evaluate a single play of Blackjack.\n",
    "    \n",
    "    For some reason, a player can only have a minimum value of 12\n",
    "    on her initial value cards.\n",
    "    \n",
    "    At the start of the game, we are given the initial value of the cards\n",
    "    of the player, the initial dealer cards and a policy for the player.\n",
    "    Furtheremore, we are given whether the player has a usable ace.\n",
    "    \n",
    "    Actions:\n",
    "        0: hit\n",
    "        1: stick\n",
    "    \n",
    "\n",
    "    Parameters\n",
    "    ----------\n",
    "    player_value_cards: float\n",
    "        Current value cards for the players\n",
    "    dealer_cards: jnp.array(2)\n",
    "        Dealer's initial cards\n",
    "    policy: jnp.array(G,A)\n",
    "        2d-array specifying if having value g ∈ G the player\n",
    "        should take action a ∈ A, i.e., policy[g,a] == 1.0\n",
    "        if action a should be taken if the value of the cards\n",
    "        is g.\n",
    "    has_usable_ace: bool\n",
    "        Wehether the initial player_value_cards contains a\n",
    "        usable ace.\n",
    "    \"\"\"\n",
    "    reward = 0\n",
    "    \n",
    "    hist_reward = [reward]\n",
    "    hist_state = [(player_value_cards, has_usable_ace)]\n",
    "    hist_action = [0]\n",
    "    \n",
    "    \n",
    "    dealer_value_cards = np.sum(dealer_cards)\n",
    "    \n",
    "    # Stick if you have 21\n",
    "    if player_value_cards == 21 and dealer_value_cards != 21:\n",
    "        reward = 1\n",
    "        \n",
    "        hist_reward.append(reward)\n",
    "        hist_state.append((player_value_cards, has_usable_ace))\n",
    "        hist_action.append(1)\n",
    "        \n",
    "        return reward\n",
    "    \n",
    "    # Strickly speaking, the policy should depend on:\n",
    "    #  1. The current state of the player, i.e., the value of her cards\n",
    "    #  2. The only card we observe of the dealer\n",
    "    # In this example, we consider a policy that only depends\n",
    "    # on the current value of the player's cards.\n",
    "\n",
    "    # Hit until you reach a 'stick' state or you lose (value of cards over 21)\n",
    "    while policy[player_value_cards - 12][1] != 1.0:\n",
    "        new_card = draw_card()\n",
    "        player_value_cards, new_has_usable_ace = update_player_card(player_value_cards, new_card)\n",
    "        has_usable_ace = has_usable_ace or new_has_usable_ace # keep usable ace if player already did have one.\n",
    "        hist_reward.append(0)\n",
    "        hist_action.append(0)\n",
    "        hist_state.append((player_value_cards, has_usable_ace))\n",
    "        \n",
    "        if player_value_cards > 21:\n",
    "            break\n",
    "            \n",
    "    dealer_value_cards = dealer_strategy(sum(dealer_cards))\n",
    "    \n",
    "    if player_value_cards > 21:\n",
    "        reward = -1\n",
    "    elif dealer_value_cards > 21:\n",
    "        reward = 1\n",
    "    else:\n",
    "        reward = 1 if player_value_cards > dealer_value_cards else 0\n",
    "    \n",
    "    hist_reward.append(reward)\n",
    "    \n",
    "    return reward, hist_reward"
   ]
  },
  {
   "cell_type": "code",
   "execution_count": 6,
   "id": "512ee892-5edc-4e83-9df3-ec14da191f04",
   "metadata": {
    "tags": []
   },
   "outputs": [],
   "source": [
    "# Value 10 corresponds to 10, Jack, Queen, and King.\n",
    "n_vals = np.ones(10)\n",
    "n_vals[-1] = 4\n",
    "deck_probs = n_vals / n_vals.sum()"
   ]
  },
  {
   "cell_type": "markdown",
   "id": "fb0e1999-12af-4972-9f6f-33fb6e0b5a27",
   "metadata": {},
   "source": [
    "## References\n",
    "1. https://github.com/ShangtongZhang/reinforcement-learning-an-introduction/blob/master/chapter05/blackjack.py"
   ]
  }
 ],
 "metadata": {
  "kernelspec": {
   "display_name": "research",
   "language": "python",
   "name": "research"
  },
  "language_info": {
   "codemirror_mode": {
    "name": "ipython",
    "version": 3
   },
   "file_extension": ".py",
   "mimetype": "text/x-python",
   "name": "python",
   "nbconvert_exporter": "python",
   "pygments_lexer": "ipython3",
   "version": "3.10.12"
  }
 },
 "nbformat": 4,
 "nbformat_minor": 5
}
