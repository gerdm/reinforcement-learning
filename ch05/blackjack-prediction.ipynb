{
 "cells": [
  {
   "cell_type": "markdown",
   "id": "ab394903-07c2-4325-9189-80070f0f3350",
   "metadata": {},
   "source": [
    "# Blackjack - prediction\n",
    "\n",
    "In this notebook, we are interested in *learning* the value-function $v_\\pi(s)$ and action-value function $q_\\pi(s, a)$ for a given policy $\\pi$"
   ]
  },
  {
   "cell_type": "code",
   "execution_count": null,
   "id": "cd929d34-5f36-4754-b653-f0f2171e6ccb",
   "metadata": {},
   "outputs": [],
   "source": []
  }
 ],
 "metadata": {
  "kernelspec": {
   "display_name": "pyprobml",
   "language": "python",
   "name": "pyprobml"
  },
  "language_info": {
   "codemirror_mode": {
    "name": "ipython",
    "version": 3
   },
   "file_extension": ".py",
   "mimetype": "text/x-python",
   "name": "python",
   "nbconvert_exporter": "python",
   "pygments_lexer": "ipython3",
   "version": "3.9.6"
  }
 },
 "nbformat": 4,
 "nbformat_minor": 5
}
