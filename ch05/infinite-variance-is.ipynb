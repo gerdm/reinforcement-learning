{
 "cells": [
  {
   "cell_type": "markdown",
   "id": "f4a298f9-0946-4b0b-874b-a4f4f0c236cf",
   "metadata": {},
   "source": [
    "# Importance sampling — infinite variance example"
   ]
  },
  {
   "cell_type": "code",
   "execution_count": 1,
   "id": "5b9d86bf-82c8-46c4-97e7-0b0a567b9677",
   "metadata": {
    "tags": []
   },
   "outputs": [],
   "source": [
    "import numpy as np\n",
    "import matplotlib.pyplot as plt\n",
    "from numba import njit, prange"
   ]
  },
  {
   "cell_type": "code",
   "execution_count": 2,
   "id": "1ceb3b6e-dad6-4bde-9513-643fa39b7683",
   "metadata": {
    "tags": []
   },
   "outputs": [],
   "source": [
    "%config InlineBackend.figure_format = \"retina\""
   ]
  },
  {
   "cell_type": "code",
   "execution_count": 63,
   "id": "84d79e84-681a-40b4-8823-8537f1e84cd4",
   "metadata": {
    "tags": []
   },
   "outputs": [],
   "source": [
    "# transition_matrix[left/right, state/end_state]\n",
    "transition_matrix = np.array([\n",
    "    [0.9, 0.1],\n",
    "    [0.0, 1.0]\n",
    "])\n",
    "\n",
    "\n",
    "reward_matrix = np.array([\n",
    "    [0.0, 1.0],\n",
    "    [-np.inf, 0.0]\n",
    "])"
   ]
  },
  {
   "cell_type": "code",
   "execution_count": 172,
   "id": "ae238901-7ff4-4c08-b67c-582441052b66",
   "metadata": {
    "tags": []
   },
   "outputs": [],
   "source": [
    "@njit\n",
    "def step(state, policy):\n",
    "    pr_actions = policy[state]\n",
    "    action = np.random.multinomial(1, pvals=pr_actions).argmax()\n",
    "    \n",
    "    next_state = np.random.multinomial(1, pvals=transition_matrix[action]).argmax()\n",
    "    reward = reward_matrix[action, next_state]\n",
    "    \n",
    "    return action, next_state, reward\n",
    "\n",
    "@njit\n",
    "def episode(state, policy):\n",
    "    while state != 1:\n",
    "        action, state, reward = step(state, policy)\n",
    "        print(state, action, reward)"
   ]
  },
  {
   "cell_type": "code",
   "execution_count": 173,
   "id": "45d1dda0-9e23-4426-a1e8-1094bb7e09a0",
   "metadata": {
    "tags": []
   },
   "outputs": [],
   "source": [
    "policy = np.zeros((\n",
    "    1, # non-terminal state\n",
    "    2, # left or right\n",
    "))\n",
    "\n",
    "policy[0, 0] = 1/2\n",
    "policy[0, 1] = 1/2"
   ]
  },
  {
   "cell_type": "code",
   "execution_count": 175,
   "id": "85c07b61-8eee-4fd4-bffb-0e4dfd760f1b",
   "metadata": {
    "tags": []
   },
   "outputs": [
    {
     "name": "stdout",
     "output_type": "stream",
     "text": [
      "0 0 0.0\n",
      "1 1 0.0\n"
     ]
    }
   ],
   "source": [
    "episode(0, policy)"
   ]
  }
 ],
 "metadata": {
  "kernelspec": {
   "display_name": "research",
   "language": "python",
   "name": "research"
  },
  "language_info": {
   "codemirror_mode": {
    "name": "ipython",
    "version": 3
   },
   "file_extension": ".py",
   "mimetype": "text/x-python",
   "name": "python",
   "nbconvert_exporter": "python",
   "pygments_lexer": "ipython3",
   "version": "3.10.12"
  }
 },
 "nbformat": 4,
 "nbformat_minor": 5
}
