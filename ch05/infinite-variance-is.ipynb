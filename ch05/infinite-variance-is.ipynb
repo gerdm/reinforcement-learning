{
 "cells": [
  {
   "cell_type": "markdown",
   "id": "f4a298f9-0946-4b0b-874b-a4f4f0c236cf",
   "metadata": {},
   "source": [
    "# Importance sampling — infinite variance example\n",
    "\n",
    "We seek to estimate the value function under the policy $\\pi(\\text{left}|s) = 1$ when the simulations are being sampled according to $\\pi(\\text{left} | s) = 1/2$."
   ]
  },
  {
   "cell_type": "markdown",
   "id": "aefa0c6a-b8b4-4309-94d4-04d4c97a1e8d",
   "metadata": {},
   "source": [
    "The estimate of the value function $v_\\pi(s)$ under ordinary importance sampling is given by\n",
    "\n",
    "$$\n",
    "     V(s) = \\frac{\\sum_{t\\in{\\mathfrak T}(s)} \\rho_{t:T(t) -1}G_t}{| \\mathfrak{T}(s) |}\n",
    "$$\n",
    "with\n",
    "* $\\mathfrak{T}(s)$  — the set of all time steps in which state $s$ is visited,\n",
    "* $T(t)$ — the first time of termination following $t$, and\n",
    "* $G_t = R_{t+1} + \\gamma R_{t+2} + \\ldots$ — the return after $t$ up though $T(t)$."
   ]
  },
  {
   "cell_type": "code",
   "execution_count": 1,
   "id": "5b9d86bf-82c8-46c4-97e7-0b0a567b9677",
   "metadata": {
    "tags": []
   },
   "outputs": [],
   "source": [
    "import numpy as np\n",
    "import pandas as pd\n",
    "import matplotlib.pyplot as plt\n",
    "from numba import njit, prange"
   ]
  },
  {
   "cell_type": "code",
   "execution_count": 2,
   "id": "1ceb3b6e-dad6-4bde-9513-643fa39b7683",
   "metadata": {
    "tags": []
   },
   "outputs": [],
   "source": [
    "%config InlineBackend.figure_format = \"retina\""
   ]
  },
  {
   "cell_type": "code",
   "execution_count": 3,
   "id": "84d79e84-681a-40b4-8823-8537f1e84cd4",
   "metadata": {
    "tags": []
   },
   "outputs": [],
   "source": [
    "# transition_matrix[left/right, state/end_state]\n",
    "transition_matrix = np.array([\n",
    "    [0.9, 0.1],\n",
    "    [0.0, 1.0]\n",
    "])\n",
    "\n",
    "\n",
    "reward_matrix = np.array([\n",
    "    [0.0,     1.0],\n",
    "    [-np.inf, 0.0]\n",
    "])"
   ]
  },
  {
   "cell_type": "code",
   "execution_count": 181,
   "id": "ae238901-7ff4-4c08-b67c-582441052b66",
   "metadata": {
    "tags": []
   },
   "outputs": [],
   "source": [
    "@njit\n",
    "def set_seed(seed):\n",
    "    np.random.seed(seed)\n",
    "    \n",
    "\n",
    "@njit\n",
    "def step(state, policy):\n",
    "    pr_actions = policy[state]\n",
    "    action = np.random.multinomial(1, pvals=pr_actions).argmax()\n",
    "    \n",
    "    next_state = np.random.multinomial(1, pvals=transition_matrix[action]).argmax()\n",
    "    ret = reward_matrix[action, next_state]\n",
    "    \n",
    "    return action, next_state, ret\n",
    "\n",
    "\n",
    "@njit\n",
    "def episode(state, policy):\n",
    "    states, actions, returns = [state], [], []\n",
    "    while state != 1:\n",
    "        action, state, ret = step(state, policy)\n",
    "        states.append(state)\n",
    "        actions.append(action)\n",
    "        returns.append(ret)\n",
    "    \n",
    "    states = np.array(states)\n",
    "    actions = np.array(actions)\n",
    "    returns = np.array(returns)\n",
    "    return states, actions, returns\n",
    "\n",
    "\n",
    "@njit\n",
    "def value_function_is(n_sims, policy_behaviour, policy_target):\n",
    "    rewards_all = []\n",
    "    rho_all = []\n",
    "    actions_all = []\n",
    "    \n",
    "    state_init = 0\n",
    "    for n in range(n_sims):\n",
    "        states, actions, returns = episode(state_init, policy_behaviour)\n",
    "        \n",
    "        # rewards = returns[::-1].cumsum()[::-1]\n",
    "        # states_pre = states[:-1]\n",
    "        \n",
    "        rewards = [returns.sum()]\n",
    "        states_pre = states[:1]\n",
    "\n",
    "        rho_vals = (\n",
    "            policy_target[:, actions].take(states_pre) / \n",
    "            policy_behaviour[:, actions].take(states_pre)\n",
    "        )\n",
    "        \n",
    "        actions_all.extend(actions)\n",
    "        rewards_all.extend(rewards)\n",
    "        rho_all.extend(rho_vals)\n",
    "    \n",
    "    actions_all = np.array(actions_all)\n",
    "    rewards_all = np.array(rewards_all)\n",
    "    rho_all = np.array(rho_all)\n",
    "    return rewards_all, rho_all, actions_all"
   ]
  },
  {
   "cell_type": "code",
   "execution_count": 182,
   "id": "0bcdc7a6-7beb-4052-9650-95931ea44679",
   "metadata": {
    "tags": []
   },
   "outputs": [],
   "source": [
    "policy_behaviour = np.zeros((\n",
    "    1, # non-terminal state\n",
    "    2, # left or right\n",
    "))\n",
    "\n",
    "policy_behaviour[0, 0] = 1/2\n",
    "policy_behaviour[0, 1] = 1/2"
   ]
  },
  {
   "cell_type": "code",
   "execution_count": 183,
   "id": "defaa6e9-86a8-4736-ba0a-80e05c0452d6",
   "metadata": {
    "tags": []
   },
   "outputs": [],
   "source": [
    "policy_target = np.zeros_like(policy_behaviour)\n",
    "policy_target[0, 0] = 1.0"
   ]
  },
  {
   "cell_type": "code",
   "execution_count": 313,
   "id": "e48f7476-fa4d-4d3f-a178-96d942c8d445",
   "metadata": {
    "tags": []
   },
   "outputs": [],
   "source": [
    "set_seed(10000)\n",
    "set_seed(31415)\n",
    "states, actions, returns = episode(0, policy_behaviour)\n",
    "rewards = returns[::-1].cumsum()[::-1]"
   ]
  },
  {
   "cell_type": "code",
   "execution_count": 314,
   "id": "d935f3c0-ad5c-4c98-a684-a0832c183863",
   "metadata": {
    "tags": []
   },
   "outputs": [
    {
     "data": {
      "text/plain": [
       "array([0., 0., 0., 0.])"
      ]
     },
     "execution_count": 314,
     "metadata": {},
     "output_type": "execute_result"
    }
   ],
   "source": [
    "rewards"
   ]
  },
  {
   "cell_type": "code",
   "execution_count": 315,
   "id": "dd9e7856-f220-4d37-84fa-36727b29039d",
   "metadata": {
    "tags": []
   },
   "outputs": [
    {
     "data": {
      "text/plain": [
       "array([0, 0, 0, 1])"
      ]
     },
     "execution_count": 315,
     "metadata": {},
     "output_type": "execute_result"
    }
   ],
   "source": [
    "actions"
   ]
  },
  {
   "cell_type": "code",
   "execution_count": 316,
   "id": "9b4a10d7-b889-440d-97a2-e1e8cf9fbd39",
   "metadata": {
    "tags": []
   },
   "outputs": [
    {
     "data": {
      "text/plain": [
       "array([0, 0, 0, 0, 1])"
      ]
     },
     "execution_count": 316,
     "metadata": {},
     "output_type": "execute_result"
    }
   ],
   "source": [
    "states"
   ]
  },
  {
   "cell_type": "code",
   "execution_count": 317,
   "id": "3572879a-d1ba-47f8-997a-ad6665d2facf",
   "metadata": {
    "tags": []
   },
   "outputs": [
    {
     "data": {
      "text/plain": [
       "array([2., 2., 2., 0.])"
      ]
     },
     "execution_count": 317,
     "metadata": {},
     "output_type": "execute_result"
    }
   ],
   "source": [
    "rho_vals = policy_target[states[:-1], actions] / policy_behaviour[states[:-1], actions]\n",
    "\n",
    "rho_vals"
   ]
  },
  {
   "cell_type": "markdown",
   "id": "5fd9ef1a-a5b0-4036-acb0-c876163a48b5",
   "metadata": {},
   "source": [
    "## Multiple simulations"
   ]
  },
  {
   "cell_type": "code",
   "execution_count": 379,
   "id": "275435d2-d56d-42a6-9208-5c315572620f",
   "metadata": {
    "tags": []
   },
   "outputs": [],
   "source": [
    "set_seed(314)\n",
    "rewards, rho, actions = value_function_is(100_000, policy_behaviour, policy_target)"
   ]
  },
  {
   "cell_type": "code",
   "execution_count": 380,
   "id": "e36ce904-8136-44ea-bc10-750450a6b841",
   "metadata": {
    "tags": []
   },
   "outputs": [
    {
     "data": {
      "text/plain": [
       "0.09090909090909091"
      ]
     },
     "execution_count": 380,
     "metadata": {},
     "output_type": "execute_result"
    }
   ],
   "source": [
    "# Probability of reward 1 under behaviour policy\n",
    "x = 1 / 2 * 0.9\n",
    "1 / (1 - x) * 1 / 2 * 0.1"
   ]
  },
  {
   "cell_type": "code",
   "execution_count": 381,
   "id": "bc55367a-7396-4ccf-886b-a6012f550bee",
   "metadata": {
    "tags": []
   },
   "outputs": [
    {
     "data": {
      "text/plain": [
       "0.09090909090909093"
      ]
     },
     "execution_count": 381,
     "metadata": {},
     "output_type": "execute_result"
    }
   ],
   "source": [
    "# Probability of reward 1 under behaviour policy\n",
    "((1 / 2 * 0.9) ** np.arange(100) * 1 / 2 * 0.1).sum()"
   ]
  },
  {
   "cell_type": "code",
   "execution_count": 382,
   "id": "4eddf909-0131-4933-b67e-a07388fde70f",
   "metadata": {
    "tags": []
   },
   "outputs": [
    {
     "data": {
      "text/plain": [
       "count    100000.000000\n",
       "mean          0.090730\n",
       "std           0.287226\n",
       "min           0.000000\n",
       "25%           0.000000\n",
       "50%           0.000000\n",
       "75%           0.000000\n",
       "max           1.000000\n",
       "dtype: float64"
      ]
     },
     "execution_count": 382,
     "metadata": {},
     "output_type": "execute_result"
    }
   ],
   "source": [
    "pd.Series(rewards).describe()"
   ]
  },
  {
   "cell_type": "code",
   "execution_count": 324,
   "id": "90c9131c-4672-4fa2-92dd-7c07b7d98a0f",
   "metadata": {
    "tags": []
   },
   "outputs": [
    {
     "data": {
      "text/plain": [
       "count    18201.000000\n",
       "mean         0.498654\n",
       "std          0.500012\n",
       "min          0.000000\n",
       "25%          0.000000\n",
       "50%          0.000000\n",
       "75%          1.000000\n",
       "max          1.000000\n",
       "dtype: float64"
      ]
     },
     "execution_count": 324,
     "metadata": {},
     "output_type": "execute_result"
    }
   ],
   "source": [
    "pd.Series(actions).describe()"
   ]
  },
  {
   "cell_type": "code",
   "execution_count": 233,
   "id": "690aa791-3b62-4ca2-a1e9-c0caac3afcfe",
   "metadata": {
    "tags": []
   },
   "outputs": [
    {
     "data": {
      "image/png": "[encoded data removed]",
      "text/plain": [
       "<Figure size 640x480 with 1 Axes>"
      ]
     },
     "metadata": {
      "image/png": {
       "height": 413,
       "width": 547
      }
     },
     "output_type": "display_data"
    }
   ],
   "source": [
    "hist = pd.DataFrame({\n",
    "    \"rewards\": rewards,\n",
    "    \"rho\": rho\n",
    "})\n",
    "\n",
    "hist = hist.assign(mult=hist[\"rewards\"] * hist[\"rho\"])\n",
    "hist[\"den\"] = (hist[\"rho\"] > 0)\n",
    "# hist = hist.assign(mult=hist[\"rho\"])\n",
    "hist.head()\n",
    "\n",
    "(hist[\"mult\"].cumsum() / hist[\"den\"].cumsum()).plot()\n",
    "plt.grid(alpha=0.3)"
   ]
  }
 ],
 "metadata": {
  "kernelspec": {
   "display_name": "research",
   "language": "python",
   "name": "research"
  },
  "language_info": {
   "codemirror_mode": {
    "name": "ipython",
    "version": 3
   },
   "file_extension": ".py",
   "mimetype": "text/x-python",
   "name": "python",
   "nbconvert_exporter": "python",
   "pygments_lexer": "ipython3",
   "version": "3.10.12"
  }
 },
 "nbformat": 4,
 "nbformat_minor": 5
}
