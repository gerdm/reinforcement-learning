{
 "cells": [
  {
   "cell_type": "markdown",
   "id": "9d627048",
   "metadata": {},
   "source": [
    "# Gridworld Example"
   ]
  },
  {
   "cell_type": "markdown",
   "id": "2d95c330",
   "metadata": {},
   "source": [
    "Rules:\n",
    "1. If you are at $A$, you get a reward of +10 irrespective of the action only if you land in $A'$\n",
    "2. If you are at $B$, you get a reward of +5 irrespective of the action only if you land in $B'$\n",
    "3. If you are at a boundary except for $A$ and $B$, you get -1 if you take an action that takes you out of bounds, but you remain in the same state\n",
    "4. Any other step has zero reward"
   ]
  },
  {
   "cell_type": "code",
   "execution_count": 27,
   "id": "7ae4c9c0",
   "metadata": {},
   "outputs": [],
   "source": [
    "import numpy as np\n",
    "from numba import jit"
   ]
  },
  {
   "cell_type": "code",
   "execution_count": 486,
   "id": "2bb2e60b",
   "metadata": {},
   "outputs": [
    {
     "data": {
      "text/plain": [
       "(25, 4, 4, 25)"
      ]
     },
     "execution_count": 486,
     "metadata": {},
     "output_type": "execute_result"
    }
   ],
   "source": [
    "# actions, rewards, (*state)\n",
    "n_actions = 4\n",
    "n_rewards = 4\n",
    "state_size = 25\n",
    "\n",
    "# p(s',r | a, s)\n",
    "p_gridworld = np.zeros((state_size, n_rewards, n_actions, state_size))\n",
    "p_gridworld.shape"
   ]
  },
  {
   "cell_type": "code",
   "execution_count": 489,
   "id": "1f0ca54f",
   "metadata": {},
   "outputs": [],
   "source": [
    "lower_bound = 0\n",
    "upper_bound = np.sqrt(state_size).astype(int) - 1"
   ]
  },
  {
   "cell_type": "code",
   "execution_count": 503,
   "id": "39abbf75",
   "metadata": {},
   "outputs": [],
   "source": [
    "rewards = np.array([0, 5, 10, -1])\n",
    "reward_map = {r: ix for ix, r in enumerate(rewards)}\n",
    "\n",
    "actions = [\"up\", \"right\", \"down\", \"left\"]\n",
    "actions_ix_map = {a: ix for ix, a in enumerate(rewards)}\n",
    "\n",
    "action_map = {\n",
    "    \"up\": np.array([-1, 0]),\n",
    "    \"right\": np.array([0, 1]),\n",
    "    \"down\": np.array([1, 0]),\n",
    "    \"left\": np.array([0, -1])\n",
    "}\n",
    "\n",
    "# mapping from special states to rewards\n",
    "special_map = {\n",
    "    1: 10,\n",
    "    3: 5\n",
    "}\n",
    "\n",
    "# mapping from special states to terminal states\n",
    "special_state_map = {\n",
    "    1: 21,\n",
    "    3: 13\n",
    "}"
   ]
  },
  {
   "cell_type": "code",
   "execution_count": 504,
   "id": "19cc4e0c",
   "metadata": {},
   "outputs": [],
   "source": [
    "def get_pos(ix):\n",
    "    col = ix % 5\n",
    "    row = ix // 5\n",
    "    state = np.asarray([row, col])\n",
    "    return state\n",
    "\n",
    "def get_state(position):\n",
    "    row, col = position\n",
    "    return 5 * row + col\n",
    "\n",
    "def move(state, action):\n",
    "    position = get_pos(state)\n",
    "    new_position = position + action_map[action]\n",
    "    return new_position\n",
    "\n",
    "def is_out_of_bounds(position, lb=0, ub=4):\n",
    "    return (new_pos < lb).any() or (new_pos > ub).any()"
   ]
  },
  {
   "cell_type": "code",
   "execution_count": 519,
   "id": "5c5ba295",
   "metadata": {},
   "outputs": [
    {
     "name": "stdout",
     "output_type": "stream",
     "text": [
      "r=10, action=up   , [0 1] -> [4 1]\n",
      "r=10, action=right, [0 1] -> [4 1]\n",
      "r=10, action=down , [0 1] -> [4 1]\n",
      "r=10, action=left , [0 1] -> [4 1]\n"
     ]
    }
   ],
   "source": [
    "# p(s',r | a, s)\n",
    "p_gridworld = np.zeros((state_size, n_rewards, n_actions, state_size))\n",
    "curr_pos = get_pos(s)\n",
    "for s in range(state_size):\n",
    "    curr_pos = get_pos(s)\n",
    "    for r in reward_map:\n",
    "        for action in action_map:\n",
    "            a_pos = action_ix_map[action]\n",
    "            r_pos = reward_map[r]\n",
    "            new_pos = move(s, action)\n",
    "            new_state = get_state(new_pos)\n",
    "\n",
    "            val = 0\n",
    "            if s in special_states:\n",
    "                if r == special_map[s]:\n",
    "                    val = 1\n",
    "                new_state = special_state_map[s]\n",
    "                new_pos = get_pos(new_state)\n",
    "            elif is_out_of_bounds(new_pos):\n",
    "                if r == -1:\n",
    "                    val = 1\n",
    "                new_pos = curr_pos\n",
    "                new_state = s\n",
    "            elif r == 0:\n",
    "                val = 1\n",
    "            \n",
    "            if val == 1 and r == 10:\n",
    "                pass\n",
    "                print(f\"{r=:2}, {action=:5}, {curr_pos} -> {new_pos}\")\n",
    "            p_gridworld[new_state, r_pos, a_pos, s] = val\n",
    "p_gridworld = p_gridworld / p_gridworld.sum(axis=0, keepdims=True).sum(axis=1, keepdims=True)"
   ]
  },
  {
   "cell_type": "code",
   "execution_count": 514,
   "id": "8587a6de",
   "metadata": {},
   "outputs": [
    {
     "data": {
      "text/plain": [
       "array([-0.5 , 10.  , -0.25,  5.  , -0.5 , -0.25,  0.  ,  0.  ,  0.  ,\n",
       "       -0.25, -0.25,  0.  ,  0.  ,  0.  , -0.25, -0.25,  0.  ,  0.  ,\n",
       "        0.  , -0.25, -0.5 , -0.25, -0.25, -0.25, -0.5 ])"
      ]
     },
     "execution_count": 514,
     "metadata": {},
     "output_type": "execute_result"
    }
   ],
   "source": [
    "# Σ_{s', r, a} r * p(s', r | a, s)\n",
    "b = (p_gridworld * rewards[None, :, None, None]).sum(axis=0).sum(axis=0).sum(axis=0) / 4\n",
    "b"
   ]
  },
  {
   "cell_type": "code",
   "execution_count": 515,
   "id": "fcf2ab6d",
   "metadata": {},
   "outputs": [
    {
     "data": {
      "text/plain": [
       "(25, 25)"
      ]
     },
     "execution_count": 515,
     "metadata": {},
     "output_type": "execute_result"
    }
   ],
   "source": [
    "γ = 0.9\n",
    "I = np.eye(state_size)\n",
    "A = I - γ / 4 * p_gridworld.sum(axis=1).sum(axis=1)\n",
    "A.shape"
   ]
  },
  {
   "cell_type": "code",
   "execution_count": 516,
   "id": "60122edc",
   "metadata": {},
   "outputs": [
    {
     "data": {
      "text/plain": [
       "array([[-0.7, 10.2,  0.2,  5.5, -0.4],\n",
       "       [ 0.5,  1.3,  1.8,  2.5,  1.1],\n",
       "       [ 2.2,  3.3,  4.1,  8.1,  3. ],\n",
       "       [ 4.8,  7.1,  5.2,  4.3,  2.2],\n",
       "       [ 8.5, 18.2,  7.5,  3.5,  1.4]])"
      ]
     },
     "execution_count": 516,
     "metadata": {},
     "output_type": "execute_result"
    }
   ],
   "source": [
    "np.linalg.solve(A, b).reshape(5, 5).round(1)"
   ]
  }
 ],
 "metadata": {
  "kernelspec": {
   "display_name": "probml",
   "language": "python",
   "name": "probml"
  },
  "language_info": {
   "codemirror_mode": {
    "name": "ipython",
    "version": 3
   },
   "file_extension": ".py",
   "mimetype": "text/x-python",
   "name": "python",
   "nbconvert_exporter": "python",
   "pygments_lexer": "ipython3",
   "version": "3.9.7"
  }
 },
 "nbformat": 4,
 "nbformat_minor": 5
}
