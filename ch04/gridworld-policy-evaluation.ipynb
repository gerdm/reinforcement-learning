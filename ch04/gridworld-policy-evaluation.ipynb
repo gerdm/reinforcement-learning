{
 "cells": [
  {
   "cell_type": "markdown",
   "id": "5db966f7-8cf4-47e9-af48-9637bdce3dac",
   "metadata": {},
   "source": [
    "# Policy Evaluation"
   ]
  },
  {
   "cell_type": "code",
   "execution_count": 3,
   "id": "3cee04f6-1d09-4c7d-85de-923054a8c3f9",
   "metadata": {
    "execution": {
     "iopub.execute_input": "2021-11-17T06:17:36.371667Z",
     "iopub.status.busy": "2021-11-17T06:17:36.371075Z",
     "iopub.status.idle": "2021-11-17T06:17:36.374345Z",
     "shell.execute_reply": "2021-11-17T06:17:36.373843Z",
     "shell.execute_reply.started": "2021-11-17T06:17:36.371630Z"
    },
    "tags": []
   },
   "outputs": [],
   "source": [
    "import numpy as np"
   ]
  },
  {
   "cell_type": "markdown",
   "id": "0e1fa85d-0643-477a-9e16-cc2c0dda6184",
   "metadata": {},
   "source": [
    "## Gridworld Example"
   ]
  },
  {
   "cell_type": "code",
   "execution_count": 20,
   "id": "d4b60427-8a33-47ed-a086-2e852336daa0",
   "metadata": {
    "execution": {
     "iopub.execute_input": "2021-11-17T06:25:10.301788Z",
     "iopub.status.busy": "2021-11-17T06:25:10.301261Z",
     "iopub.status.idle": "2021-11-17T06:25:10.305128Z",
     "shell.execute_reply": "2021-11-17T06:25:10.304670Z",
     "shell.execute_reply.started": "2021-11-17T06:25:10.301763Z"
    },
    "tags": []
   },
   "outputs": [],
   "source": [
    "def get_pos(ix, lenght):\n",
    "    \"\"\"\n",
    "    Get the position in a square Gridworld\n",
    "    \"\"\"\n",
    "    col = ix % length\n",
    "    row = ix // length\n",
    "    state = np.asarray([row, col])\n",
    "    return state"
   ]
  }
 ],
 "metadata": {
  "kernelspec": {
   "display_name": "probml",
   "language": "python",
   "name": "probml"
  },
  "language_info": {
   "codemirror_mode": {
    "name": "ipython",
    "version": 3
   },
   "file_extension": ".py",
   "mimetype": "text/x-python",
   "name": "python",
   "nbconvert_exporter": "python",
   "pygments_lexer": "ipython3",
   "version": "3.9.7"
  }
 },
 "nbformat": 4,
 "nbformat_minor": 5
}
