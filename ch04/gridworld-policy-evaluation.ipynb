{
 "cells": [
  {
   "cell_type": "markdown",
   "id": "5db966f7-8cf4-47e9-af48-9637bdce3dac",
   "metadata": {},
   "source": [
    "# Policy Evaluation"
   ]
  },
  {
   "cell_type": "code",
   "execution_count": 1,
   "id": "3cee04f6-1d09-4c7d-85de-923054a8c3f9",
   "metadata": {
    "tags": []
   },
   "outputs": [],
   "source": [
    "import numpy as np"
   ]
  },
  {
   "cell_type": "markdown",
   "id": "0e1fa85d-0643-477a-9e16-cc2c0dda6184",
   "metadata": {},
   "source": [
    "## Gridworld Example"
   ]
  },
  {
   "cell_type": "code",
   "execution_count": 2,
   "id": "d4b60427-8a33-47ed-a086-2e852336daa0",
   "metadata": {
    "tags": []
   },
   "outputs": [],
   "source": [
    "action_map = {\n",
    "    \"up\": np.array([-1, 0]),\n",
    "    \"right\": np.array([0, 1]),\n",
    "    \"down\": np.array([1, 0]),\n",
    "    \"left\": np.array([0, -1])\n",
    "}\n",
    "\n",
    "\n",
    "def get_pos(ix, length):\n",
    "    \"\"\"\n",
    "    Get the position in a square Gridworld\n",
    "    \"\"\"\n",
    "    col = ix % length\n",
    "    row = ix // length\n",
    "    state = np.asarray([row, col])\n",
    "    return state"
   ]
  },
  {
   "cell_type": "code",
   "execution_count": 3,
   "id": "cc7ba8ad-2aa5-4085-91c1-7412a732dc31",
   "metadata": {
    "tags": []
   },
   "outputs": [],
   "source": [
    "class Grid:\n",
    "    def __init__(self, length):\n",
    "        self.length = length\n",
    "        self.action_map = {\n",
    "            \"up\": np.array([-1, 0]),\n",
    "            \"right\": np.array([0, 1]),\n",
    "            \"down\": np.array([1, 0]),\n",
    "            \"left\": np.array([0, -1])\n",
    "        }\n",
    "        self.action_ix = {action: ix for ix, action in enumerate(self.action_map)}\n",
    "\n",
    "    def get_pos(self, ix):\n",
    "        \"\"\"\n",
    "        Compute cartesian coordinates of the griworld given an index\n",
    "        \"\"\"\n",
    "        col = ix % self.length\n",
    "        row = ix // self.length\n",
    "        position = np.asarray([row, col])\n",
    "        return position\n",
    "    \n",
    "    def get_ix(self, position):\n",
    "        row, col = position\n",
    "        ix = self.length * row + col\n",
    "        return ix\n",
    "    \n",
    "    def move_pos(self, pos, action):\n",
    "        new_pos = pos + self.action_map[action]\n",
    "        return new_pos\n",
    "    \n",
    "    def move(self, ix, action):\n",
    "        position = self.get_pos(ix)\n",
    "        new_position = self.move_pos(position, action)\n",
    "        new_ix = self.get_ix(new_position)\n",
    "        return new_ix\n",
    "    \n",
    "class GridV2(Grid):\n",
    "    def __init__(self, length, terminal_states):\n",
    "        super().__init__(length)\n",
    "        self.terminal_states = terminal_states\n",
    "    \n",
    "    def _check_out_of_bounds(self, pos):\n",
    "        x, y = pos\n",
    "        return (x >= self.length) | (x < 0) | (y >= self.length) | (y < 0)\n",
    "        return (state < 0) | (state >= self.length ** 2)\n",
    "    \n",
    "    def move(self, state, action):\n",
    "        if state in self.terminal_states:\n",
    "            return state\n",
    "        position = self.get_pos(state)\n",
    "        new_position = self.move_pos(position, action)\n",
    "        is_oob = self._check_out_of_bounds(new_position)\n",
    "        new_state = self.get_ix(new_position)    \n",
    "        # is_oob = self._check_out_of_bounds(new_state)\n",
    "        return state * is_oob + new_state * (1 - is_oob)"
   ]
  },
  {
   "cell_type": "code",
   "execution_count": 4,
   "id": "d42ea276-55ba-4451-a328-90cc91ab6812",
   "metadata": {
    "tags": []
   },
   "outputs": [],
   "source": [
    "l = 4\n",
    "terminal_states = np.array([0, 15])\n",
    "gridworld = GridV2(l, terminal_states)"
   ]
  },
  {
   "cell_type": "code",
   "execution_count": 5,
   "id": "d6b54e5d-f3fc-4777-b458-12f8b9102a47",
   "metadata": {},
   "outputs": [
    {
     "data": {
      "text/plain": [
       "15"
      ]
     },
     "execution_count": 5,
     "metadata": {},
     "output_type": "execute_result"
    }
   ],
   "source": [
    "gridworld.move(15, \"left\")"
   ]
  },
  {
   "cell_type": "code",
   "execution_count": 6,
   "id": "6bacb579-017d-46fc-b3fb-bb55925d213a",
   "metadata": {
    "tags": []
   },
   "outputs": [
    {
     "data": {
      "text/plain": [
       "(16, 2, 16, 4)"
      ]
     },
     "execution_count": 6,
     "metadata": {},
     "output_type": "execute_result"
    }
   ],
   "source": [
    "n_actions = 4\n",
    "n_rewards = 2\n",
    "state_size = 4 ** 2\n",
    "\n",
    "# s', r | s, a\n",
    "p_gridworld = np.zeros((state_size, n_rewards, state_size, n_actions))\n",
    "p_gridworld.shape"
   ]
  },
  {
   "cell_type": "code",
   "execution_count": 7,
   "id": "06d69729-b7cc-4fcc-8cf0-65d96ff5d42b",
   "metadata": {},
   "outputs": [
    {
     "data": {
      "text/plain": [
       "array([[ 0,  1,  2,  3],\n",
       "       [ 4,  5,  6,  7],\n",
       "       [ 8,  9, 10, 11],\n",
       "       [12, 13, 14, 15]])"
      ]
     },
     "execution_count": 7,
     "metadata": {},
     "output_type": "execute_result"
    }
   ],
   "source": [
    "# Gridworld representation\n",
    "np.arange(16).reshape(4, 4)"
   ]
  },
  {
   "cell_type": "code",
   "execution_count": 8,
   "id": "d8cf9764-c6f8-4290-8233-cb540ab633c8",
   "metadata": {
    "tags": []
   },
   "outputs": [
    {
     "name": "stdout",
     "output_type": "stream",
     "text": [
      "p(s'= 0, r= 0 | s= 0, a=up   ) = 1\n",
      "p(s'= 0, r= 0 | s= 0, a=right) = 1\n",
      "p(s'= 0, r= 0 | s= 0, a=down ) = 1\n",
      "p(s'= 0, r= 0 | s= 0, a=left ) = 1\n",
      "p(s'= 1, r=-1 | s= 1, a=up   ) = 1\n",
      "p(s'= 2, r=-1 | s= 1, a=right) = 1\n",
      "p(s'= 5, r=-1 | s= 1, a=down ) = 1\n",
      "p(s'= 0, r=-1 | s= 1, a=left ) = 1\n",
      "p(s'= 2, r=-1 | s= 2, a=up   ) = 1\n",
      "p(s'= 3, r=-1 | s= 2, a=right) = 1\n",
      "p(s'= 6, r=-1 | s= 2, a=down ) = 1\n",
      "p(s'= 1, r=-1 | s= 2, a=left ) = 1\n",
      "p(s'= 3, r=-1 | s= 3, a=up   ) = 1\n",
      "p(s'= 3, r=-1 | s= 3, a=right) = 1\n",
      "p(s'= 7, r=-1 | s= 3, a=down ) = 1\n",
      "p(s'= 2, r=-1 | s= 3, a=left ) = 1\n",
      "p(s'= 0, r=-1 | s= 4, a=up   ) = 1\n",
      "p(s'= 5, r=-1 | s= 4, a=right) = 1\n",
      "p(s'= 8, r=-1 | s= 4, a=down ) = 1\n",
      "p(s'= 4, r=-1 | s= 4, a=left ) = 1\n",
      "p(s'= 1, r=-1 | s= 5, a=up   ) = 1\n",
      "p(s'= 6, r=-1 | s= 5, a=right) = 1\n",
      "p(s'= 9, r=-1 | s= 5, a=down ) = 1\n",
      "p(s'= 4, r=-1 | s= 5, a=left ) = 1\n",
      "p(s'= 2, r=-1 | s= 6, a=up   ) = 1\n",
      "p(s'= 7, r=-1 | s= 6, a=right) = 1\n",
      "p(s'=10, r=-1 | s= 6, a=down ) = 1\n",
      "p(s'= 5, r=-1 | s= 6, a=left ) = 1\n",
      "p(s'= 3, r=-1 | s= 7, a=up   ) = 1\n",
      "p(s'= 7, r=-1 | s= 7, a=right) = 1\n",
      "p(s'=11, r=-1 | s= 7, a=down ) = 1\n",
      "p(s'= 6, r=-1 | s= 7, a=left ) = 1\n",
      "p(s'= 4, r=-1 | s= 8, a=up   ) = 1\n",
      "p(s'= 9, r=-1 | s= 8, a=right) = 1\n",
      "p(s'=12, r=-1 | s= 8, a=down ) = 1\n",
      "p(s'= 8, r=-1 | s= 8, a=left ) = 1\n",
      "p(s'= 5, r=-1 | s= 9, a=up   ) = 1\n",
      "p(s'=10, r=-1 | s= 9, a=right) = 1\n",
      "p(s'=13, r=-1 | s= 9, a=down ) = 1\n",
      "p(s'= 8, r=-1 | s= 9, a=left ) = 1\n",
      "p(s'= 6, r=-1 | s=10, a=up   ) = 1\n",
      "p(s'=11, r=-1 | s=10, a=right) = 1\n",
      "p(s'=14, r=-1 | s=10, a=down ) = 1\n",
      "p(s'= 9, r=-1 | s=10, a=left ) = 1\n",
      "p(s'= 7, r=-1 | s=11, a=up   ) = 1\n",
      "p(s'=11, r=-1 | s=11, a=right) = 1\n",
      "p(s'=15, r=-1 | s=11, a=down ) = 1\n",
      "p(s'=10, r=-1 | s=11, a=left ) = 1\n",
      "p(s'= 8, r=-1 | s=12, a=up   ) = 1\n",
      "p(s'=13, r=-1 | s=12, a=right) = 1\n",
      "p(s'=12, r=-1 | s=12, a=down ) = 1\n",
      "p(s'=12, r=-1 | s=12, a=left ) = 1\n",
      "p(s'= 9, r=-1 | s=13, a=up   ) = 1\n",
      "p(s'=14, r=-1 | s=13, a=right) = 1\n",
      "p(s'=13, r=-1 | s=13, a=down ) = 1\n",
      "p(s'=12, r=-1 | s=13, a=left ) = 1\n",
      "p(s'=10, r=-1 | s=14, a=up   ) = 1\n",
      "p(s'=15, r=-1 | s=14, a=right) = 1\n",
      "p(s'=14, r=-1 | s=14, a=down ) = 1\n",
      "p(s'=13, r=-1 | s=14, a=left ) = 1\n",
      "p(s'=15, r= 0 | s=15, a=up   ) = 1\n",
      "p(s'=15, r= 0 | s=15, a=right) = 1\n",
      "p(s'=15, r= 0 | s=15, a=down ) = 1\n",
      "p(s'=15, r= 0 | s=15, a=left ) = 1\n"
     ]
    }
   ],
   "source": [
    "actions = [\"up\", \"right\", \"down\", \"left\"]\n",
    "for s in np.arange(state_size):\n",
    "    for a in actions:\n",
    "        s_prime = gridworld.move(s, a)\n",
    "        r = 0 if s in terminal_states else -1\n",
    "        a_ix = gridworld.action_ix[a]\n",
    "        p_gridworld[s_prime, r, s, a_ix] = 1\n",
    "        print(f\"p(s'={s_prime:2}, r={r:2} | s={s:2}, a={a:5}) = 1\")"
   ]
  },
  {
   "cell_type": "code",
   "execution_count": 20,
   "id": "1ff8651d-eeff-4154-a7fb-5a41db766328",
   "metadata": {},
   "outputs": [],
   "source": [
    "import matplotlib.pyplot as plt\n",
    "%config InlineBackend.figure_format = \"retina\""
   ]
  },
  {
   "cell_type": "code",
   "execution_count": 58,
   "id": "8ffde1b3-ca38-4dba-a34a-e64f4ed62f5c",
   "metadata": {
    "tags": []
   },
   "outputs": [],
   "source": [
    "\n",
    "rewards = np.array([0,-1])\n",
    "vk = np.zeros(state_size)\n",
    "\n",
    "intermediate_ix = [1, 2, 3, 10]\n",
    "intermediate_val_functions = []\n",
    "val_change = []\n",
    "Δ = np.inf\n",
    "eps = 1e-6\n",
    "\n",
    "counter = 0\n",
    "while Δ > eps:\n",
    "    single_reward = (rewards[None, :] + vk[:, None])\n",
    "    # s', r | s, a\n",
    "    vk_update = np.einsum(\"ijkl,ij->k\", p_gridworld, single_reward) / 4\n",
    "    # Δ = max(Δ, (vk - vk_update).max())\n",
    "    Δ = np.abs(vk - vk_update).max()\n",
    "    vk = vk_update\n",
    "    \n",
    "    val_change.append(Δ)\n",
    "    \n",
    "    counter += 1\n",
    "    if counter in intermediate_ix:\n",
    "        intermediate_val_functions.append(vk)\n",
    "\n",
    "intermediate_val_functions.append(vk)\n",
    "intermediate_ix.append(counter)"
   ]
  },
  {
   "cell_type": "code",
   "execution_count": 59,
   "id": "24c54357-dd07-45f7-8208-cc7a9ebb8254",
   "metadata": {},
   "outputs": [
    {
     "name": "stdout",
     "output_type": "stream",
     "text": [
      "k=1\n",
      "[[ 0. -1. -1. -1.]\n",
      " [-1. -1. -1. -1.]\n",
      " [-1. -1. -1. -1.]\n",
      " [-1. -1. -1.  0.]]\n",
      "\n",
      "k=2\n",
      "[[ 0.  -1.8 -2.  -2. ]\n",
      " [-1.8 -2.  -2.  -2. ]\n",
      " [-2.  -2.  -2.  -1.8]\n",
      " [-2.  -2.  -1.8  0. ]]\n",
      "\n",
      "k=3\n",
      "[[ 0.  -2.4 -2.9 -3. ]\n",
      " [-2.4 -2.9 -3.  -2.9]\n",
      " [-2.9 -3.  -2.9 -2.4]\n",
      " [-3.  -2.9 -2.4  0. ]]\n",
      "\n",
      "k=10\n",
      "[[ 0.  -6.1 -8.4 -9. ]\n",
      " [-6.1 -7.7 -8.4 -8.4]\n",
      " [-8.4 -8.4 -7.7 -6.1]\n",
      " [-9.  -8.4 -6.1  0. ]]\n",
      "\n",
      "k=258\n",
      "[[  0. -14. -20. -22.]\n",
      " [-14. -18. -20. -20.]\n",
      " [-20. -20. -18. -14.]\n",
      " [-22. -20. -14.   0.]]\n",
      "\n"
     ]
    }
   ],
   "source": [
    "for k, vk in zip(intermediate_ix, intermediate_val_functions):\n",
    "    print(f\"{k=}\")\n",
    "    print(vk.reshape(4, 4).round(1), end=\"\\n\" * 2)"
   ]
  },
  {
   "cell_type": "code",
   "execution_count": 66,
   "id": "0e8c2d09-d0f5-4158-9518-f2e625ff0961",
   "metadata": {},
   "outputs": [
    {
     "data": {
      "image/png": "[encoded data removed]",
      "text/plain": [
       "<Figure size 432x288 with 1 Axes>"
      ]
     },
     "metadata": {
      "image/png": {
       "height": 265,
       "width": 372
      },
      "needs_background": "light"
     },
     "output_type": "display_data"
    }
   ],
   "source": [
    "plt.plot(val_change)\n",
    "plt.title(r\"$\\Delta$\", fontsize=15);"
   ]
  }
 ],
 "metadata": {
  "kernelspec": {
   "display_name": "probml",
   "language": "python",
   "name": "probml"
  },
  "language_info": {
   "codemirror_mode": {
    "name": "ipython",
    "version": 3
   },
   "file_extension": ".py",
   "mimetype": "text/x-python",
   "name": "python",
   "nbconvert_exporter": "python",
   "pygments_lexer": "ipython3",
   "version": "3.9.7"
  }
 },
 "nbformat": 4,
 "nbformat_minor": 5
}
