{
 "cells": [
  {
   "cell_type": "markdown",
   "id": "5db966f7-8cf4-47e9-af48-9637bdce3dac",
   "metadata": {},
   "source": [
    "# Policy Evaluation"
   ]
  },
  {
   "cell_type": "code",
   "execution_count": 3,
   "id": "3cee04f6-1d09-4c7d-85de-923054a8c3f9",
   "metadata": {
    "execution": {
     "iopub.execute_input": "2021-11-17T06:17:36.371667Z",
     "iopub.status.busy": "2021-11-17T06:17:36.371075Z",
     "iopub.status.idle": "2021-11-17T06:17:36.374345Z",
     "shell.execute_reply": "2021-11-17T06:17:36.373843Z",
     "shell.execute_reply.started": "2021-11-17T06:17:36.371630Z"
    },
    "tags": []
   },
   "outputs": [],
   "source": [
    "import numpy as np"
   ]
  },
  {
   "cell_type": "markdown",
   "id": "0e1fa85d-0643-477a-9e16-cc2c0dda6184",
   "metadata": {},
   "source": [
    "## Gridworld Example"
   ]
  },
  {
   "cell_type": "code",
   "execution_count": 29,
   "id": "d4b60427-8a33-47ed-a086-2e852336daa0",
   "metadata": {
    "execution": {
     "iopub.execute_input": "2021-11-17T08:38:50.976296Z",
     "iopub.status.busy": "2021-11-17T08:38:50.975774Z",
     "iopub.status.idle": "2021-11-17T08:38:50.980777Z",
     "shell.execute_reply": "2021-11-17T08:38:50.980217Z",
     "shell.execute_reply.started": "2021-11-17T08:38:50.976269Z"
    },
    "tags": []
   },
   "outputs": [],
   "source": [
    "action_map = {\n",
    "    \"up\": np.array([-1, 0]),\n",
    "    \"right\": np.array([0, 1]),\n",
    "    \"down\": np.array([1, 0]),\n",
    "    \"left\": np.array([0, -1])\n",
    "}\n",
    "\n",
    "\n",
    "def get_pos(ix, length):\n",
    "    \"\"\"\n",
    "    Get the position in a square Gridworld\n",
    "    \"\"\"\n",
    "    col = ix % length\n",
    "    row = ix // length\n",
    "    state = np.asarray([row, col])\n",
    "    return state"
   ]
  },
  {
   "cell_type": "code",
   "execution_count": 110,
   "id": "cc7ba8ad-2aa5-4085-91c1-7412a732dc31",
   "metadata": {
    "execution": {
     "iopub.execute_input": "2021-11-17T09:11:49.287218Z",
     "iopub.status.busy": "2021-11-17T09:11:49.286702Z",
     "iopub.status.idle": "2021-11-17T09:11:49.294701Z",
     "shell.execute_reply": "2021-11-17T09:11:49.294195Z",
     "shell.execute_reply.started": "2021-11-17T09:11:49.287190Z"
    },
    "tags": []
   },
   "outputs": [],
   "source": [
    "class Grid:\n",
    "    def __init__(self, length):\n",
    "        self.length = length\n",
    "        self.action_map = {\n",
    "            \"up\": np.array([-1, 0]),\n",
    "            \"right\": np.array([0, 1]),\n",
    "            \"down\": np.array([1, 0]),\n",
    "            \"left\": np.array([0, -1])\n",
    "        }\n",
    "        self.action_ix = {action: ix for ix, action in enumerate(self.action_map)}\n",
    "\n",
    "    def get_pos(self, ix):\n",
    "        \"\"\"\n",
    "        Compute cartesian coordinates of the griworld given an index\n",
    "        \"\"\"\n",
    "        col = ix % self.length\n",
    "        row = ix // self.length\n",
    "        position = np.asarray([row, col])\n",
    "        return position\n",
    "    \n",
    "    def get_ix(self, position):\n",
    "        row, col = position\n",
    "        ix = self.length * row + col\n",
    "        return ix\n",
    "    \n",
    "    def move(self, ix, action):\n",
    "        position = self.get_pos(ix)\n",
    "        new_position = position + self.action_map[action]\n",
    "        new_ix = self.get_ix(new_position)\n",
    "        return new_ix\n",
    "    \n",
    "class GridV2(Grid):\n",
    "    def __init__(self, length, terminal_states):\n",
    "        super().__init__(length)\n",
    "        self.terminal_states = terminal_states\n",
    "    \n",
    "    def _check_out_of_bounds(self, state):\n",
    "        return (state < 0) | (state >= self.length ** 2)\n",
    "    \n",
    "    def move(self, state, action):\n",
    "        if state in self.terminal_states:\n",
    "            return state\n",
    "        \n",
    "        new_state = super().move(state, action)\n",
    "        is_oob = self._check_out_of_bounds(new_state)\n",
    "        return state * is_oob + new_state * (1 - is_oob)"
   ]
  },
  {
   "cell_type": "code",
   "execution_count": 111,
   "id": "d42ea276-55ba-4451-a328-90cc91ab6812",
   "metadata": {
    "execution": {
     "iopub.execute_input": "2021-11-17T09:11:50.346448Z",
     "iopub.status.busy": "2021-11-17T09:11:50.345900Z",
     "iopub.status.idle": "2021-11-17T09:11:50.349314Z",
     "shell.execute_reply": "2021-11-17T09:11:50.348869Z",
     "shell.execute_reply.started": "2021-11-17T09:11:50.346422Z"
    },
    "tags": []
   },
   "outputs": [],
   "source": [
    "terminal_states = np.array([0, 15])\n",
    "gridworld = GridV2(l, terminal_states)"
   ]
  },
  {
   "cell_type": "code",
   "execution_count": 180,
   "id": "6bacb579-017d-46fc-b3fb-bb55925d213a",
   "metadata": {
    "execution": {
     "iopub.execute_input": "2021-11-17T09:25:08.063661Z",
     "iopub.status.busy": "2021-11-17T09:25:08.063000Z",
     "iopub.status.idle": "2021-11-17T09:25:08.068457Z",
     "shell.execute_reply": "2021-11-17T09:25:08.068021Z",
     "shell.execute_reply.started": "2021-11-17T09:25:08.063622Z"
    },
    "tags": []
   },
   "outputs": [
    {
     "data": {
      "text/plain": [
       "(16, 2, 16, 4)"
      ]
     },
     "execution_count": 180,
     "metadata": {},
     "output_type": "execute_result"
    }
   ],
   "source": [
    "n_actions = 4\n",
    "n_rewards = 2\n",
    "state_size = 4 ** 2\n",
    "\n",
    "# s', r | s, a\n",
    "p_gridworld = np.zeros((state_size, n_rewards, state_size, n_actions))\n",
    "p_gridworld.shape"
   ]
  },
  {
   "cell_type": "code",
   "execution_count": 181,
   "id": "03b15c95-2254-4b0d-8969-aba4129a2a58",
   "metadata": {
    "execution": {
     "iopub.execute_input": "2021-11-17T09:25:08.116868Z",
     "iopub.status.busy": "2021-11-17T09:25:08.116687Z",
     "iopub.status.idle": "2021-11-17T09:25:08.120865Z",
     "shell.execute_reply": "2021-11-17T09:25:08.120389Z",
     "shell.execute_reply.started": "2021-11-17T09:25:08.116849Z"
    },
    "tags": []
   },
   "outputs": [
    {
     "data": {
      "text/plain": [
       "0"
      ]
     },
     "execution_count": 181,
     "metadata": {},
     "output_type": "execute_result"
    }
   ],
   "source": [
    "gridworld.move(0, \"left\")"
   ]
  },
  {
   "cell_type": "code",
   "execution_count": 182,
   "id": "ded24637-2b4d-44ec-8f88-9f91dc650bd6",
   "metadata": {
    "execution": {
     "iopub.execute_input": "2021-11-17T09:25:08.280698Z",
     "iopub.status.busy": "2021-11-17T09:25:08.280191Z",
     "iopub.status.idle": "2021-11-17T09:25:08.285080Z",
     "shell.execute_reply": "2021-11-17T09:25:08.284557Z",
     "shell.execute_reply.started": "2021-11-17T09:25:08.280671Z"
    },
    "tags": []
   },
   "outputs": [
    {
     "data": {
      "text/plain": [
       "array([[0., 0., 0., 0.],\n",
       "       [0., 0., 0., 0.],\n",
       "       [0., 0., 0., 0.],\n",
       "       [0., 0., 0., 0.]])"
      ]
     },
     "execution_count": 182,
     "metadata": {},
     "output_type": "execute_result"
    }
   ],
   "source": [
    "p_gridworld[:, 1, 9].sum(axis=1).reshape(4, 4)"
   ]
  },
  {
   "cell_type": "code",
   "execution_count": 183,
   "id": "d8cf9764-c6f8-4290-8233-cb540ab633c8",
   "metadata": {
    "execution": {
     "iopub.execute_input": "2021-11-17T09:25:08.720341Z",
     "iopub.status.busy": "2021-11-17T09:25:08.719860Z",
     "iopub.status.idle": "2021-11-17T09:25:08.730781Z",
     "shell.execute_reply": "2021-11-17T09:25:08.730244Z",
     "shell.execute_reply.started": "2021-11-17T09:25:08.720315Z"
    },
    "tags": []
   },
   "outputs": [
    {
     "name": "stdout",
     "output_type": "stream",
     "text": [
      "p( 0,  0 |  0, up   ) = 1\n",
      "p( 0,  0 |  0, right) = 1\n",
      "p( 0,  0 |  0, down ) = 1\n",
      "p( 0,  0 |  0, left ) = 1\n",
      "p( 1, -1 |  1, up   ) = 1\n",
      "p( 2, -1 |  1, right) = 1\n",
      "p( 5, -1 |  1, down ) = 1\n",
      "p( 0, -1 |  1, left ) = 1\n",
      "p( 2, -1 |  2, up   ) = 1\n",
      "p( 3, -1 |  2, right) = 1\n",
      "p( 6, -1 |  2, down ) = 1\n",
      "p( 1, -1 |  2, left ) = 1\n",
      "p( 3, -1 |  3, up   ) = 1\n",
      "p( 4, -1 |  3, right) = 1\n",
      "p( 7, -1 |  3, down ) = 1\n",
      "p( 2, -1 |  3, left ) = 1\n",
      "p( 0, -1 |  4, up   ) = 1\n",
      "p( 5, -1 |  4, right) = 1\n",
      "p( 8, -1 |  4, down ) = 1\n",
      "p( 3, -1 |  4, left ) = 1\n",
      "p( 1, -1 |  5, up   ) = 1\n",
      "p( 6, -1 |  5, right) = 1\n",
      "p( 9, -1 |  5, down ) = 1\n",
      "p( 4, -1 |  5, left ) = 1\n",
      "p( 2, -1 |  6, up   ) = 1\n",
      "p( 7, -1 |  6, right) = 1\n",
      "p(10, -1 |  6, down ) = 1\n",
      "p( 5, -1 |  6, left ) = 1\n",
      "p( 3, -1 |  7, up   ) = 1\n",
      "p( 8, -1 |  7, right) = 1\n",
      "p(11, -1 |  7, down ) = 1\n",
      "p( 6, -1 |  7, left ) = 1\n",
      "p( 4, -1 |  8, up   ) = 1\n",
      "p( 9, -1 |  8, right) = 1\n",
      "p(12, -1 |  8, down ) = 1\n",
      "p( 7, -1 |  8, left ) = 1\n",
      "p( 5, -1 |  9, up   ) = 1\n",
      "p(10, -1 |  9, right) = 1\n",
      "p(13, -1 |  9, down ) = 1\n",
      "p( 8, -1 |  9, left ) = 1\n",
      "p( 6, -1 | 10, up   ) = 1\n",
      "p(11, -1 | 10, right) = 1\n",
      "p(14, -1 | 10, down ) = 1\n",
      "p( 9, -1 | 10, left ) = 1\n",
      "p( 7, -1 | 11, up   ) = 1\n",
      "p(12, -1 | 11, right) = 1\n",
      "p(15, -1 | 11, down ) = 1\n",
      "p(10, -1 | 11, left ) = 1\n",
      "p( 8, -1 | 12, up   ) = 1\n",
      "p(13, -1 | 12, right) = 1\n",
      "p(12, -1 | 12, down ) = 1\n",
      "p(11, -1 | 12, left ) = 1\n",
      "p( 9, -1 | 13, up   ) = 1\n",
      "p(14, -1 | 13, right) = 1\n",
      "p(13, -1 | 13, down ) = 1\n",
      "p(12, -1 | 13, left ) = 1\n",
      "p(10, -1 | 14, up   ) = 1\n",
      "p(15, -1 | 14, right) = 1\n",
      "p(14, -1 | 14, down ) = 1\n",
      "p(13, -1 | 14, left ) = 1\n",
      "p(15,  0 | 15, up   ) = 1\n",
      "p(15,  0 | 15, right) = 1\n",
      "p(15,  0 | 15, down ) = 1\n",
      "p(15,  0 | 15, left ) = 1\n"
     ]
    }
   ],
   "source": [
    "actions = [\"up\", \"right\", \"down\", \"left\"]\n",
    "for s in np.arange(state_size):\n",
    "    for a in actions:\n",
    "        s_prime = gridworld.move(s, a)\n",
    "        r = 0 if s in terminal_states else -1\n",
    "        a_ix = gridworld.action_ix[a]\n",
    "        p_gridworld[s_prime, r, s, a_ix] = r\n",
    "        print(f\"p({s_prime:2}, {r:2} | {s:2}, {a:5}) = 1\")"
   ]
  },
  {
   "cell_type": "code",
   "execution_count": 251,
   "id": "8ffde1b3-ca38-4dba-a34a-e64f4ed62f5c",
   "metadata": {
    "execution": {
     "iopub.execute_input": "2021-11-17T09:33:48.809857Z",
     "iopub.status.busy": "2021-11-17T09:33:48.809061Z",
     "iopub.status.idle": "2021-11-17T09:33:48.817772Z",
     "shell.execute_reply": "2021-11-17T09:33:48.817127Z",
     "shell.execute_reply.started": "2021-11-17T09:33:48.809822Z"
    },
    "tags": []
   },
   "outputs": [
    {
     "name": "stdout",
     "output_type": "stream",
     "text": [
      "[[0. 1. 1. 1.]\n",
      " [1. 1. 1. 1.]\n",
      " [1. 1. 1. 1.]\n",
      " [1. 1. 1. 0.]]\n",
      "\n",
      "[[0.   0.25 0.   0.  ]\n",
      " [0.25 0.   0.   0.  ]\n",
      " [0.   0.   0.   0.25]\n",
      " [0.   0.   0.25 0.  ]]\n",
      "\n",
      "[[0.     0.9375 0.9375 0.9375]\n",
      " [1.     0.875  1.     0.9375]\n",
      " [0.9375 1.     0.875  1.    ]\n",
      " [0.9375 0.9375 0.9375 0.    ]]\n",
      "\n",
      "[[0.       0.3125   0.046875 0.046875]\n",
      " [0.3125   0.015625 0.09375  0.03125 ]\n",
      " [0.03125  0.09375  0.015625 0.3125  ]\n",
      " [0.046875 0.046875 0.3125   0.      ]]\n",
      "\n",
      "[[0.         0.90625    0.875      0.890625  ]\n",
      " [0.9765625  0.796875   0.97265625 0.87890625]\n",
      " [0.87890625 0.97265625 0.796875   0.9765625 ]\n",
      " [0.890625   0.875      0.90625    0.        ]]\n",
      "\n",
      "[[0.         0.35546875 0.08886719 0.09472656]\n",
      " [0.35839844 0.04296875 0.16308594 0.0703125 ]\n",
      " [0.0703125  0.16308594 0.04296875 0.35839844]\n",
      " [0.09472656 0.08886719 0.35546875 0.        ]]\n",
      "\n",
      "[[0.         0.87817383 0.82446289 0.84692383]\n",
      " [0.94799805 0.73999023 0.9387207  0.82836914]\n",
      " [0.82836914 0.9387207  0.73999023 0.94799805]\n",
      " [0.84692383 0.82446289 0.87817383 0.        ]]\n",
      "\n",
      "[[0.         0.38934326 0.12792969 0.13806152]\n",
      " [0.3961792  0.07409668 0.21679688 0.10949707]\n",
      " [0.10949707 0.21679688 0.07409668 0.3961792 ]\n",
      " [0.13806152 0.12792969 0.38934326 0.        ]]\n",
      "\n",
      "[[0.         0.85215759 0.78196716 0.80708313]\n",
      " [0.91958618 0.69522095 0.90359497 0.78486633]\n",
      " [0.78486633 0.90359497 0.69522095 0.91958618]\n",
      " [0.80708313 0.78196716 0.85215759 0.        ]]\n",
      "\n",
      "[[0.         0.41766357 0.16379929 0.1766243 ]\n",
      " [0.4282074  0.10526657 0.26068115 0.14621735]\n",
      " [0.14621735 0.26068115 0.10526657 0.4282074 ]\n",
      " [0.1766243  0.16379929 0.41766357 0.        ]]\n",
      "\n"
     ]
    }
   ],
   "source": [
    "rewards = np.array([0, -1])\n",
    "vk = np.zeros(state_size)\n",
    "\n",
    "for _ in range(10):\n",
    "    single_reward = (rewards + vk[:, None])\n",
    "    vk = np.einsum(\"ijkl,ij->k\", p_gridworld, single_reward) / 4\n",
    "    print(vk.reshape(4, 4), end=\"\\n\" * 2)"
   ]
  }
 ],
 "metadata": {
  "kernelspec": {
   "display_name": "probml",
   "language": "python",
   "name": "probml"
  },
  "language_info": {
   "codemirror_mode": {
    "name": "ipython",
    "version": 3
   },
   "file_extension": ".py",
   "mimetype": "text/x-python",
   "name": "python",
   "nbconvert_exporter": "python",
   "pygments_lexer": "ipython3",
   "version": "3.9.7"
  }
 },
 "nbformat": 4,
 "nbformat_minor": 5
}
