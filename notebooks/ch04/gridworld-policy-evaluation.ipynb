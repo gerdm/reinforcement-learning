{
 "cells": [
  {
   "cell_type": "markdown",
   "id": "5db966f7-8cf4-47e9-af48-9637bdce3dac",
   "metadata": {},
   "source": [
    "# Policy Evaluation"
   ]
  },
  {
   "cell_type": "code",
   "execution_count": 2,
   "id": "3cee04f6-1d09-4c7d-85de-923054a8c3f9",
   "metadata": {
    "tags": []
   },
   "outputs": [],
   "source": [
    "import einops\n",
    "import numpy as np\n",
    "import pandas as pd\n",
    "import matplotlib.pyplot as plt"
   ]
  },
  {
   "cell_type": "code",
   "execution_count": 3,
   "id": "c9e14a8b-33fa-4997-8e13-05f38d083e9b",
   "metadata": {
    "tags": []
   },
   "outputs": [],
   "source": [
    "%config InlineBackend.figure_format = \"retina\""
   ]
  },
  {
   "cell_type": "markdown",
   "id": "0e1fa85d-0643-477a-9e16-cc2c0dda6184",
   "metadata": {},
   "source": [
    "## Gridworld Example"
   ]
  },
  {
   "cell_type": "code",
   "execution_count": 4,
   "id": "cc7ba8ad-2aa5-4085-91c1-7412a732dc31",
   "metadata": {
    "tags": []
   },
   "outputs": [],
   "source": [
    "class Grid:\n",
    "    def __init__(self, length):\n",
    "        self.length = length\n",
    "        self.action_map = {\n",
    "            \"up\": np.array([-1, 0]),\n",
    "            \"right\": np.array([0, 1]),\n",
    "            \"down\": np.array([1, 0]),\n",
    "            \"left\": np.array([0, -1])\n",
    "        }\n",
    "        self.action_ix = {action: ix for ix, action in enumerate(self.action_map)}\n",
    "\n",
    "    def get_pos(self, ix):\n",
    "        \"\"\"\n",
    "        Compute cartesian coordinates of the griworld given an index\n",
    "        \"\"\"\n",
    "        col = ix % self.length\n",
    "        row = ix // self.length\n",
    "        position = np.asarray([row, col])\n",
    "        return position\n",
    "    \n",
    "    def get_ix(self, position):\n",
    "        row, col = position\n",
    "        ix = self.length * row + col\n",
    "        return ix\n",
    "    \n",
    "    def move_pos(self, pos, action):\n",
    "        new_pos = pos + self.action_map[action]\n",
    "        return new_pos\n",
    "    \n",
    "    def move(self, ix, action):\n",
    "        position = self.get_pos(ix)\n",
    "        new_position = self.move_pos(position, action)\n",
    "        new_ix = self.get_ix(new_position)\n",
    "        return new_ix\n",
    "    \n",
    "\n",
    "class GridV2(Grid):\n",
    "    def __init__(self, length, terminal_states):\n",
    "        super().__init__(length)\n",
    "        self.terminal_states = terminal_states\n",
    "    \n",
    "    def _check_out_of_bounds(self, pos):\n",
    "        x, y = pos\n",
    "        return (x >= self.length) | (x < 0) | (y >= self.length) | (y < 0)\n",
    "        return (state < 0) | (state >= self.length ** 2)\n",
    "    \n",
    "    def move(self, state, action):\n",
    "        if state in self.terminal_states:\n",
    "            return state\n",
    "        position = self.get_pos(state)\n",
    "        new_position = self.move_pos(position, action)\n",
    "        is_oob = self._check_out_of_bounds(new_position)\n",
    "        new_state = self.get_ix(new_position)\n",
    "        \n",
    "        new_state = state * is_oob + new_state * (1 - is_oob)\n",
    "        return new_state"
   ]
  },
  {
   "cell_type": "markdown",
   "id": "a7d3da85-6706-4dd1-b588-8f05a72c4981",
   "metadata": {},
   "source": [
    "## Initialise gridworld"
   ]
  },
  {
   "cell_type": "code",
   "execution_count": 5,
   "id": "d42ea276-55ba-4451-a328-90cc91ab6812",
   "metadata": {
    "tags": []
   },
   "outputs": [],
   "source": [
    "l = 4\n",
    "terminal_states = np.array([0, 15])\n",
    "gridworld = GridV2(l, terminal_states)"
   ]
  },
  {
   "cell_type": "code",
   "execution_count": 6,
   "id": "8a3a6292-bcbb-411c-90c3-228122b4ff3a",
   "metadata": {
    "tags": []
   },
   "outputs": [
    {
     "data": {
      "text/plain": [
       "array([[ 0,  1,  2,  3],\n",
       "       [ 4,  5,  6,  7],\n",
       "       [ 8,  9, 10, 11],\n",
       "       [12, 13, 14, 15]])"
      ]
     },
     "execution_count": 6,
     "metadata": {},
     "output_type": "execute_result"
    }
   ],
   "source": [
    "actions = [\"up\", \"right\", \"down\", \"left\"]\n",
    "np.arange(l ** 2).reshape(l, l)"
   ]
  },
  {
   "cell_type": "code",
   "execution_count": 7,
   "id": "d6b54e5d-f3fc-4777-b458-12f8b9102a47",
   "metadata": {
    "tags": []
   },
   "outputs": [
    {
     "data": {
      "text/plain": [
       "[('up', 15), ('right', 15), ('down', 15), ('left', 15)]"
      ]
     },
     "execution_count": 7,
     "metadata": {},
     "output_type": "execute_result"
    }
   ],
   "source": [
    "s = 15\n",
    "[(action, gridworld.move(s, action)) for action in actions]"
   ]
  },
  {
   "cell_type": "code",
   "execution_count": 8,
   "id": "8c2fb162-3a78-4c3b-a064-7f6fb67edf93",
   "metadata": {
    "tags": []
   },
   "outputs": [
    {
     "data": {
      "text/plain": [
       "[('up', 1), ('right', 6), ('down', 9), ('left', 4)]"
      ]
     },
     "execution_count": 8,
     "metadata": {},
     "output_type": "execute_result"
    }
   ],
   "source": [
    "s = 5\n",
    "[(action, gridworld.move(s, action)) for action in actions]"
   ]
  },
  {
   "cell_type": "markdown",
   "id": "781478b5-d76a-49ad-9996-cd4accab255f",
   "metadata": {},
   "source": [
    "## Precompute the MDP — $p(s', r | s, a)$"
   ]
  },
  {
   "cell_type": "code",
   "execution_count": 9,
   "id": "6bacb579-017d-46fc-b3fb-bb55925d213a",
   "metadata": {
    "tags": []
   },
   "outputs": [
    {
     "data": {
      "text/plain": [
       "(16, 2, 16, 4)"
      ]
     },
     "execution_count": 9,
     "metadata": {},
     "output_type": "execute_result"
    }
   ],
   "source": [
    "n_actions = 4\n",
    "n_rewards = 2\n",
    "state_size = 4 ** 2\n",
    "\n",
    "# s', r | s, a\n",
    "p_gridworld = np.zeros((state_size, n_rewards, state_size, n_actions))\n",
    "p_gridworld.shape"
   ]
  },
  {
   "cell_type": "code",
   "execution_count": 10,
   "id": "d8cf9764-c6f8-4290-8233-cb540ab633c8",
   "metadata": {
    "tags": []
   },
   "outputs": [
    {
     "name": "stdout",
     "output_type": "stream",
     "text": [
      "p(s'= 0, r= 0 | s= 0, a=up   ) = 1\n",
      "p(s'= 0, r= 0 | s= 0, a=right) = 1\n",
      "p(s'= 0, r= 0 | s= 0, a=down ) = 1\n",
      "p(s'= 0, r= 0 | s= 0, a=left ) = 1\n",
      "p(s'= 1, r=-1 | s= 1, a=up   ) = 1\n",
      "p(s'= 2, r=-1 | s= 1, a=right) = 1\n",
      "p(s'= 5, r=-1 | s= 1, a=down ) = 1\n",
      "p(s'= 0, r=-1 | s= 1, a=left ) = 1\n",
      "p(s'= 2, r=-1 | s= 2, a=up   ) = 1\n",
      "p(s'= 3, r=-1 | s= 2, a=right) = 1\n",
      "p(s'= 6, r=-1 | s= 2, a=down ) = 1\n",
      "p(s'= 1, r=-1 | s= 2, a=left ) = 1\n",
      "p(s'= 3, r=-1 | s= 3, a=up   ) = 1\n",
      "p(s'= 3, r=-1 | s= 3, a=right) = 1\n",
      "p(s'= 7, r=-1 | s= 3, a=down ) = 1\n",
      "p(s'= 2, r=-1 | s= 3, a=left ) = 1\n",
      "p(s'= 0, r=-1 | s= 4, a=up   ) = 1\n",
      "p(s'= 5, r=-1 | s= 4, a=right) = 1\n",
      "p(s'= 8, r=-1 | s= 4, a=down ) = 1\n",
      "p(s'= 4, r=-1 | s= 4, a=left ) = 1\n",
      "p(s'= 1, r=-1 | s= 5, a=up   ) = 1\n",
      "p(s'= 6, r=-1 | s= 5, a=right) = 1\n",
      "p(s'= 9, r=-1 | s= 5, a=down ) = 1\n",
      "p(s'= 4, r=-1 | s= 5, a=left ) = 1\n",
      "p(s'= 2, r=-1 | s= 6, a=up   ) = 1\n",
      "p(s'= 7, r=-1 | s= 6, a=right) = 1\n",
      "p(s'=10, r=-1 | s= 6, a=down ) = 1\n",
      "p(s'= 5, r=-1 | s= 6, a=left ) = 1\n",
      "p(s'= 3, r=-1 | s= 7, a=up   ) = 1\n",
      "p(s'= 7, r=-1 | s= 7, a=right) = 1\n",
      "p(s'=11, r=-1 | s= 7, a=down ) = 1\n",
      "p(s'= 6, r=-1 | s= 7, a=left ) = 1\n",
      "p(s'= 4, r=-1 | s= 8, a=up   ) = 1\n",
      "p(s'= 9, r=-1 | s= 8, a=right) = 1\n",
      "p(s'=12, r=-1 | s= 8, a=down ) = 1\n",
      "p(s'= 8, r=-1 | s= 8, a=left ) = 1\n",
      "p(s'= 5, r=-1 | s= 9, a=up   ) = 1\n",
      "p(s'=10, r=-1 | s= 9, a=right) = 1\n",
      "p(s'=13, r=-1 | s= 9, a=down ) = 1\n",
      "p(s'= 8, r=-1 | s= 9, a=left ) = 1\n",
      "p(s'= 6, r=-1 | s=10, a=up   ) = 1\n",
      "p(s'=11, r=-1 | s=10, a=right) = 1\n",
      "p(s'=14, r=-1 | s=10, a=down ) = 1\n",
      "p(s'= 9, r=-1 | s=10, a=left ) = 1\n",
      "p(s'= 7, r=-1 | s=11, a=up   ) = 1\n",
      "p(s'=11, r=-1 | s=11, a=right) = 1\n",
      "p(s'=15, r=-1 | s=11, a=down ) = 1\n",
      "p(s'=10, r=-1 | s=11, a=left ) = 1\n",
      "p(s'= 8, r=-1 | s=12, a=up   ) = 1\n",
      "p(s'=13, r=-1 | s=12, a=right) = 1\n",
      "p(s'=12, r=-1 | s=12, a=down ) = 1\n",
      "p(s'=12, r=-1 | s=12, a=left ) = 1\n",
      "p(s'= 9, r=-1 | s=13, a=up   ) = 1\n",
      "p(s'=14, r=-1 | s=13, a=right) = 1\n",
      "p(s'=13, r=-1 | s=13, a=down ) = 1\n",
      "p(s'=12, r=-1 | s=13, a=left ) = 1\n",
      "p(s'=10, r=-1 | s=14, a=up   ) = 1\n",
      "p(s'=15, r=-1 | s=14, a=right) = 1\n",
      "p(s'=14, r=-1 | s=14, a=down ) = 1\n",
      "p(s'=13, r=-1 | s=14, a=left ) = 1\n",
      "p(s'=15, r= 0 | s=15, a=up   ) = 1\n",
      "p(s'=15, r= 0 | s=15, a=right) = 1\n",
      "p(s'=15, r= 0 | s=15, a=down ) = 1\n",
      "p(s'=15, r= 0 | s=15, a=left ) = 1\n"
     ]
    }
   ],
   "source": [
    "for s in np.arange(state_size):\n",
    "    for a in actions:\n",
    "        s_prime = gridworld.move(s, a)\n",
    "        r = 0 if s in terminal_states else -1\n",
    "        a_ix = gridworld.action_ix[a]\n",
    "        p_gridworld[s_prime, r, s, a_ix] = 1\n",
    "        print(f\"p(s'={s_prime:2}, r={r:2} | s={s:2}, a={a:5}) = 1\")"
   ]
  },
  {
   "cell_type": "markdown",
   "id": "c10727a2-53f4-4c8c-8292-d3f4ad61222f",
   "metadata": {},
   "source": [
    "## Iterative policy evaluation"
   ]
  },
  {
   "cell_type": "code",
   "execution_count": 11,
   "id": "8ffde1b3-ca38-4dba-a34a-e64f4ed62f5c",
   "metadata": {
    "tags": []
   },
   "outputs": [],
   "source": [
    "rewards = np.array([0, -1])\n",
    "vk = np.zeros(state_size)\n",
    "\n",
    "intermediate_ix = [1, 2, 3, 10]\n",
    "intermediate_val_functions = []\n",
    "val_change = []\n",
    "Δ = np.inf\n",
    "eps = 1e-6\n",
    "\n",
    "counter = 0\n",
    "while Δ > eps:\n",
    "    single_reward = (rewards[:, None] + vk[None, :])\n",
    "    # Sum over s', r, a — Keep s\n",
    "    vk_update = einops.einsum(p_gridworld, single_reward, \"s_prime r s a, r s_prime -> s\") / 4\n",
    "    Δ = np.abs(vk - vk_update).max()\n",
    "    vk = vk_update\n",
    "    \n",
    "    val_change.append(Δ)\n",
    "    \n",
    "    counter += 1\n",
    "    if counter in intermediate_ix:\n",
    "        intermediate_val_functions.append(vk)\n",
    "\n",
    "intermediate_val_functions.append(vk)\n",
    "intermediate_ix.append(counter)"
   ]
  },
  {
   "cell_type": "code",
   "execution_count": 12,
   "id": "24c54357-dd07-45f7-8208-cc7a9ebb8254",
   "metadata": {
    "tags": []
   },
   "outputs": [
    {
     "name": "stdout",
     "output_type": "stream",
     "text": [
      "k=1\n",
      "[[ 0. -1. -1. -1.]\n",
      " [-1. -1. -1. -1.]\n",
      " [-1. -1. -1. -1.]\n",
      " [-1. -1. -1.  0.]]\n",
      "\n",
      "k=2\n",
      "[[ 0.  -1.8 -2.  -2. ]\n",
      " [-1.8 -2.  -2.  -2. ]\n",
      " [-2.  -2.  -2.  -1.8]\n",
      " [-2.  -2.  -1.8  0. ]]\n",
      "\n",
      "k=3\n",
      "[[ 0.  -2.4 -2.9 -3. ]\n",
      " [-2.4 -2.9 -3.  -2.9]\n",
      " [-2.9 -3.  -2.9 -2.4]\n",
      " [-3.  -2.9 -2.4  0. ]]\n",
      "\n",
      "k=10\n",
      "[[ 0.  -6.1 -8.4 -9. ]\n",
      " [-6.1 -7.7 -8.4 -8.4]\n",
      " [-8.4 -8.4 -7.7 -6.1]\n",
      " [-9.  -8.4 -6.1  0. ]]\n",
      "\n",
      "k=258\n",
      "[[  0. -14. -20. -22.]\n",
      " [-14. -18. -20. -20.]\n",
      " [-20. -20. -18. -14.]\n",
      " [-22. -20. -14.   0.]]\n",
      "\n"
     ]
    }
   ],
   "source": [
    "for k, vk in zip(intermediate_ix, intermediate_val_functions):\n",
    "    print(f\"{k=}\")\n",
    "    print(vk.reshape(4, 4).round(1), end=\"\\n\" * 2)"
   ]
  },
  {
   "cell_type": "code",
   "execution_count": 13,
   "id": "0e8c2d09-d0f5-4158-9518-f2e625ff0961",
   "metadata": {
    "tags": []
   },
   "outputs": [
    {
     "data": {
      "image/png": "[encoded data removed]",
      "text/plain": [
       "<Figure size 640x480 with 1 Axes>"
      ]
     },
     "metadata": {
      "image/png": {
       "height": 437,
       "width": 547
      }
     },
     "output_type": "display_data"
    }
   ],
   "source": [
    "plt.plot(val_change)\n",
    "plt.title(r\"$\\Delta$\", fontsize=15)\n",
    "plt.grid(alpha=0.3)"
   ]
  },
  {
   "cell_type": "markdown",
   "id": "9fdba096-d334-40b1-bd59-db3b6de31b18",
   "metadata": {},
   "source": [
    "## Double checking\n",
    "\n",
    "We can also estimate the value function by simulating the MDP and averaging the results"
   ]
  },
  {
   "cell_type": "code",
   "execution_count": 14,
   "id": "92e4070c-aa88-43b6-b714-ed32256fee5c",
   "metadata": {
    "tags": []
   },
   "outputs": [],
   "source": [
    "def simulate_one(grid, init_state):\n",
    "    state = init_state\n",
    "    reward = 0\n",
    "    while state not in grid.terminal_states:\n",
    "        action = np.random.choice(actions) # Random policy\n",
    "        state = grid.move(state, action)\n",
    "        reward += 1\n",
    "    reward = -reward\n",
    "    return reward\n",
    "\n",
    "def simulate(grid, init_state, n_simulations=1000):\n",
    "    rewards = []\n",
    "    for _ in range(n_simulations):\n",
    "        reward = simulate_one(gridworld, init_state)\n",
    "        rewards.append(reward)\n",
    "    rewards = np.array(rewards)\n",
    "    return rewards"
   ]
  },
  {
   "cell_type": "code",
   "execution_count": 15,
   "id": "3d799376-72ac-4ac4-8020-7392e861f84f",
   "metadata": {
    "tags": []
   },
   "outputs": [
    {
     "data": {
      "text/plain": [
       "array([[  0., -14., -20., -23.],\n",
       "       [-14., -18., -20., -20.],\n",
       "       [-20., -20., -18., -15.],\n",
       "       [-21., -19., -14.,   0.]])"
      ]
     },
     "execution_count": 15,
     "metadata": {},
     "output_type": "execute_result"
    }
   ],
   "source": [
    "estimate_expected_reward = np.vectorize(lambda s: simulate(gridworld, s).mean())\n",
    "rewards_states = estimate_expected_reward(np.arange(16))\n",
    "\n",
    "rewards_states.reshape(4, 4).round()"
   ]
  },
  {
   "cell_type": "markdown",
   "id": "46a039c8-5f14-4efb-afe3-fe897783bf36",
   "metadata": {},
   "source": [
    "# Policy improvement\n",
    "From a uniform policy to an improved policy\n",
    "\n",
    "$$\n",
    "    v_{\\pi'}(s) = \\max_a \\sum_{s', r} p(s', r \\vert s, a)\\left[r + v_\\pi(s')\\right]\n",
    "$$"
   ]
  },
  {
   "cell_type": "code",
   "execution_count": 26,
   "id": "a7b7b4c4-3d71-4ab1-a213-7d1206a43d97",
   "metadata": {
    "tags": []
   },
   "outputs": [
    {
     "data": {
      "text/plain": [
       "array([[  0., -14., -20., -22.],\n",
       "       [-14., -18., -20., -20.],\n",
       "       [-20., -20., -18., -14.],\n",
       "       [-22., -20., -14.,   0.]])"
      ]
     },
     "execution_count": 26,
     "metadata": {},
     "output_type": "execute_result"
    }
   ],
   "source": [
    "# Value function under the uniform policy π(a|s) = 1 / 4\n",
    "vk.reshape(4, 4).round(1)"
   ]
  },
  {
   "cell_type": "markdown",
   "id": "3015506e-f503-46aa-806c-9bd7f1e22e3c",
   "metadata": {},
   "source": [
    "**Compute greedy actions w.r.t `a` to improve the policy**"
   ]
  },
  {
   "cell_type": "code",
   "execution_count": 77,
   "id": "3a9f3b01-aaf1-4957-8918-fff6f0c46bbe",
   "metadata": {
    "tags": []
   },
   "outputs": [],
   "source": [
    "rewards_v = np.array([0, -1])\n",
    "reward_term = (rewards_v[:, None] + vk[None, :])\n",
    "q_improv = einops.einsum(p_gridworld, reward_term, \"s_prime r s a, r s_prime -> s a\").round(3)\n",
    "v_prime = einops.reduce(q_improv, \"s a -> s ()\", \"max\")\n",
    "new_actions = q_improv == v_prime\n"
   ]
  },
  {
   "cell_type": "code",
   "execution_count": 78,
   "id": "85560301-8619-4496-b82a-bcfd53e9d81d",
   "metadata": {
    "tags": []
   },
   "outputs": [
    {
     "data": {
      "text/plain": [
       "array([['urdl', 'l   ', 'l   ', 'dl  '],\n",
       "       ['u   ', 'ul  ', 'dl  ', 'd   '],\n",
       "       ['u   ', 'ur  ', 'rd  ', 'd   '],\n",
       "       ['ur  ', 'r   ', 'r   ', 'urdl']], dtype='<U4')"
      ]
     },
     "execution_count": 78,
     "metadata": {},
     "output_type": "execute_result"
    }
   ],
   "source": [
    "actions_str = np.array([\"u\",\"r\",\"d\",\"l\"])\n",
    "actions_str = np.where(new_actions, actions_str, \"\")\n",
    "actions_str\n",
    "\n",
    "np.array([f'{\"\".join(row):4}' for row in actions_str]).reshape(4, 4)"
   ]
  },
  {
   "cell_type": "markdown",
   "id": "77d997c9-0ce7-439e-881c-12f498d710ee",
   "metadata": {},
   "source": [
    "**Important note**\n",
    "> Although in this case the new policy $\\pi'$ happens to be optimal, in general only an improvement is guaranteed."
   ]
  }
 ],
 "metadata": {
  "kernelspec": {
   "display_name": "Python 3 (ipykernel)",
   "language": "python",
   "name": "python3"
  },
  "language_info": {
   "codemirror_mode": {
    "name": "ipython",
    "version": 3
   },
   "file_extension": ".py",
   "mimetype": "text/x-python",
   "name": "python",
   "nbconvert_exporter": "python",
   "pygments_lexer": "ipython3",
   "version": "3.10.12"
  }
 },
 "nbformat": 4,
 "nbformat_minor": 5
}
